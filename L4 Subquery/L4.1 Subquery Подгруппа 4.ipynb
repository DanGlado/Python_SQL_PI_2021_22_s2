{
 "cells": [
  {
   "cell_type": "markdown",
   "id": "2cbf40e8",
   "metadata": {},
   "source": [
    "<img src=\"../Img/Python_SQL_PI.png\" style=\"width:100%\">\n",
    "\n",
    "\n",
    "<p style=\"font-size:22px;text-align:center\">Семинар 4.1. Подзапросы</p> \n",
    "\n",
    "<a id = Home></a>\n",
    "\n",
    "17 марта 2022 года, пн<br>\n",
    "Поток: ПИ20-1, ПИ20-2, ПИ20-3, ПИ20-4, ПИ20-5, ПИ20-6 (2 подгруппа)<br>\n",
    "\n",
    "\n",
    "21 марта 2022 года, чт<br>\n",
    "ПИ20-1, ПИ20-2, ПИ20-3, ПИ20-4, ПИ20-5, ПИ20-6 (3 подгруппа)<br>\n",
    "ПИ20-1, ПИ20-2, ПИ20-3, ПИ20-4, ПИ20-5, ПИ20-6 (4 подгруппа)<br>\n",
    "\n",
    "31 марта 2022 года, чт<br>\n",
    "ПИ20-1, ПИ20-2, ПИ20-3, ПИ20-4, ПИ20-5, ПИ20-6 (1 подгруппа)"
   ]
  },
  {
   "cell_type": "markdown",
   "id": "f8c2cfac",
   "metadata": {},
   "source": [
    "\n",
    "```\n",
    "STUDENT\n",
    "STUDENT_ID — числовой код, идентифицирующий студента (идентификатор студента),\n",
    "SURNAME — фамилия студента,\n",
    "NAME — имя студента,\n",
    "STIPEND — стипендия, которую получает студент,\n",
    "KURS — курс, на котором учится студент,\n",
    "CITY — город, в котором живет студент,\n",
    "BIRTHDAY — дата рождения студента,\n",
    "UNIV_ID — идентификатор университета, в котором учится студент.\n",
    "\n",
    "\n",
    "LECTURER\n",
    "LECTURER_ID — идентификатор преподавателя,\n",
    "SURNAME — фамилия преподавателя,\n",
    "NAME — имя преподавателя,\n",
    "CITY — город, в котором живет преподаватель,\n",
    "UNIV_ID — идентификатор университета, в котором работает преподаватель\n",
    "\n",
    "\n",
    "SUBJECT\n",
    "SUBJ_ID — идентификатор предмета обучения,\n",
    "SUBJ_NAME — наименование предмета обучения,\n",
    "HOUR — количество часов, отводимых на изучение предмета,\n",
    "SEMESTER — семестр, в котором изучается данный предмет.\n",
    "\n",
    "\n",
    "UNIVERSITY\n",
    "UNIV_ID — идентификатор университета,\n",
    "UNIV_NAME — название университета,\n",
    "RATING — рейтинг университета,\n",
    "CITY — город, в котором расположен университет.\n",
    "\n",
    "\n",
    "EXAM_MARKS\n",
    "EXAM_ID — идентификатор экзамена,\n",
    "STUDENT_ID — идентификатор студента,\n",
    "SUBJ_ID — идентификатор предмета обучения,\n",
    "MARK — экзаменационная оценка,\n",
    "EXAM_DATE — дата экзамена.\n",
    "\n",
    "\n",
    "SUBJ_LECT\n",
    "LECTURER_ID — идентификатор преподавателя,\n",
    "SUBJ_ID — идентификатор предмета обучения.\n",
    "```\n",
    "\n",
    "<img src=\"../Img/Students_Schema.png\" style=\"width:60%\">"
   ]
  },
  {
   "cell_type": "markdown",
   "id": "1b03e6ff",
   "metadata": {},
   "source": [
    "<img src=../Img/pencil.png style=\"width:190px;height:190px\">\n",
    "<p style=\"background-color:powderblue; font-size:125%; color: rebeccapurple;\">Выполните задания</p>\n",
    "<p>Выполните задания в Jupyter Notebook</p>\n",
    "\n",
    "1. С помощью подзапроса напишите запрос, выводящий список студентов, получающих максимальную стипендию, отсортировав его в алфавитном порядке по фамилиям.\n",
    "2. С помощью подзапроса напишите запрос, выводящий список студентов, получающих стипендию, превышающую среднее значение стипендии.\n",
    "3. С помощью подзапроса напишите запрос, выводящий список студентов, обучающихся в Воронеже, с последующей сортировкой по идентификаторам университетов и курсам.\n",
    "4. С помощью подзапроса напишите запрос, выводящий список предметов, на изучение которых отведено максимальное количество часов.\n",
    "5. Напишите запрос, выполняющий вывод имен и фамилий студентов, место проживания которых не совпадает с городом, в котором находится их университет.\n",
    "6. С помощью подзапроса напишите запрос, выводящий список университетов, расположенных в Москве и имеющих рейтинг больший, чем у ВГУ."
   ]
  },
  {
   "cell_type": "code",
   "execution_count": null,
   "id": "370b0e73",
   "metadata": {},
   "outputs": [],
   "source": [
    "#! pip install sqlalchemy"
   ]
  },
  {
   "cell_type": "code",
   "execution_count": 1,
   "id": "3baefead",
   "metadata": {},
   "outputs": [],
   "source": [
    "from sqlalchemy import MetaData, Table, create_engine, select, and_, or_, not_\n",
    "from sqlalchemy.sql import func"
   ]
  },
  {
   "cell_type": "code",
   "execution_count": 2,
   "id": "ba0e321b",
   "metadata": {},
   "outputs": [],
   "source": [
    "engine = create_engine('sqlite:///../Data/Students.db')\n",
    "metadata_obj = MetaData() # Объект-контейнер, содержит информацию о схеме данных\n",
    "metadata_obj.reflect(bind=engine) # Отображение БД\n",
    "# Вызов метода reflect() приводит к включению в объект metadata_obj словаря всех таблиц БД."
   ]
  },
  {
   "cell_type": "markdown",
   "id": "44005228",
   "metadata": {},
   "source": [
    "Несколько примеров получения информации о БД с помощью методов объекта ***metadata_obj***."
   ]
  },
  {
   "cell_type": "code",
   "execution_count": 3,
   "id": "995142bc",
   "metadata": {},
   "outputs": [
    {
     "data": {
      "text/plain": [
       "dict_keys(['city', 'exam_marks', 'student', 'university', 'subject', 'lecturer', 'subj_lect'])"
      ]
     },
     "execution_count": 3,
     "metadata": {},
     "output_type": "execute_result"
    }
   ],
   "source": [
    "# Таблицы в БД\n",
    "metadata_obj.tables.keys()"
   ]
  },
  {
   "cell_type": "code",
   "execution_count": 4,
   "id": "d4884e8c",
   "metadata": {},
   "outputs": [
    {
     "data": {
      "text/plain": [
       "'student'"
      ]
     },
     "execution_count": 4,
     "metadata": {},
     "output_type": "execute_result"
    }
   ],
   "source": [
    "# Имя конкретной таблицы\n",
    "metadata_obj.tables['student'].name"
   ]
  },
  {
   "cell_type": "code",
   "execution_count": 5,
   "id": "07d95ec9",
   "metadata": {},
   "outputs": [
    {
     "data": {
      "text/plain": [
       "['student_id',\n",
       " 'surname',\n",
       " 'name',\n",
       " 'stipend',\n",
       " 'kurs',\n",
       " 'city',\n",
       " 'birthday',\n",
       " 'univ_id']"
      ]
     },
     "execution_count": 5,
     "metadata": {},
     "output_type": "execute_result"
    }
   ],
   "source": [
    "# Столбцы конкретной таблицы\n",
    "metadata_obj.tables['student'].columns.keys()"
   ]
  },
  {
   "cell_type": "code",
   "execution_count": 6,
   "id": "953c05a3",
   "metadata": {},
   "outputs": [
    {
     "data": {
      "text/plain": [
       "Column('student_id', INTEGER(), table=<student>, primary_key=True, nullable=False)"
      ]
     },
     "execution_count": 6,
     "metadata": {},
     "output_type": "execute_result"
    }
   ],
   "source": [
    "# Информация о столбце\n",
    "metadata_obj.tables['student'].columns['student_id']"
   ]
  },
  {
   "cell_type": "code",
   "execution_count": 7,
   "id": "212d4c6b",
   "metadata": {},
   "outputs": [
    {
     "name": "stdout",
     "output_type": "stream",
     "text": [
      "city\n",
      "subject\n",
      "university\n",
      "lecturer\n",
      "student\n",
      "exam_marks\n",
      "subj_lect\n"
     ]
    }
   ],
   "source": [
    "for t in metadata_obj.sorted_tables:\n",
    "    print(t.name)"
   ]
  },
  {
   "cell_type": "code",
   "execution_count": 8,
   "id": "be594368",
   "metadata": {
    "scrolled": true
   },
   "outputs": [
    {
     "name": "stdout",
     "output_type": "stream",
     "text": [
      "city\n",
      "city.city_id\n",
      "city.name\n",
      "\n",
      "subject\n",
      "subject.subj_id\n",
      "subject.subj_name\n",
      "subject.hour\n",
      "subject.semester\n",
      "\n",
      "university\n",
      "university.univ_id\n",
      "university.univ_name\n",
      "university.rating\n",
      "university.city\n",
      "\n",
      "lecturer\n",
      "lecturer.lecturer_id\n",
      "lecturer.surname\n",
      "lecturer.name\n",
      "lecturer.city\n",
      "lecturer.univ_id\n",
      "\n",
      "student\n",
      "student.student_id\n",
      "student.surname\n",
      "student.name\n",
      "student.stipend\n",
      "student.kurs\n",
      "student.city\n",
      "student.birthday\n",
      "student.univ_id\n",
      "\n",
      "exam_marks\n",
      "exam_marks.exam_id\n",
      "exam_marks.student_id\n",
      "exam_marks.subj_id\n",
      "exam_marks.mark\n",
      "exam_marks.exam_date\n",
      "\n",
      "subj_lect\n",
      "subj_lect.lecturer_id\n",
      "subj_lect.subj_id\n",
      "\n"
     ]
    }
   ],
   "source": [
    "for t in metadata_obj.sorted_tables:\n",
    "    print(t.name)\n",
    "    for c in t.columns:\n",
    "        print(c)\n",
    "    print()"
   ]
  },
  {
   "cell_type": "markdown",
   "id": "ec13c771",
   "metadata": {},
   "source": [
    "Создание объектов таблиц"
   ]
  },
  {
   "cell_type": "code",
   "execution_count": 9,
   "id": "0ae317ea",
   "metadata": {},
   "outputs": [],
   "source": [
    "exam_marks=Table(\"exam_marks\", metadata_obj, autoload=True, autoload_with=\"engine\")\n",
    "lecturer=Table(\"lecturer\", metadata_obj, autoload=True, autoload_with=\"engine\")\n",
    "student=Table(\"student\", metadata_obj, autoload=True, autoload_with=\"engine\")\n",
    "subj_lect=Table(\"subj_lect\", metadata_obj, autoload=True, autoload_with=\"engine\")\n",
    "subject=Table(\"subject\", metadata_obj, autoload=True, autoload_with=\"engine\")\n",
    "university=Table(\"university\", metadata_obj, autolad=True, autolad_with=\"engine\")"
   ]
  },
  {
   "cell_type": "markdown",
   "id": "e9c2214d",
   "metadata": {},
   "source": [
    "# Решение"
   ]
  },
  {
   "cell_type": "code",
   "execution_count": 10,
   "id": "e86be0a7",
   "metadata": {},
   "outputs": [],
   "source": [
    "conn=engine.connect() # Соединение"
   ]
  },
  {
   "cell_type": "code",
   "execution_count": 13,
   "id": "0302b0cf",
   "metadata": {
    "scrolled": false
   },
   "outputs": [
    {
     "name": "stdout",
     "output_type": "stream",
     "text": [
      "SELECT student.student_id, student.surname, student.name, student.stipend, student.kurs, student.city, student.birthday, student.univ_id \n",
      "FROM student \n",
      "WHERE student.stipend = (SELECT max(student.stipend) AS max_1 \n",
      "FROM student) ORDER BY student.surname\n",
      "18\n"
     ]
    },
    {
     "data": {
      "text/plain": [
       "[(55, 'Белкин', 'Вадим', 250, 5, 'Воронеж', datetime.datetime(2000, 1, 7, 0, 0), 10),\n",
       " (91, 'Блохина', 'Ираида', 250, 3, 'Новый Уренгой', datetime.datetime(1997, 3, 23, 0, 0), 22),\n",
       " (149, 'Вячеслав', 'Пахомов', 250, 3, 'Игарка', datetime.datetime(1997, 5, 14, 0, 0), 14),\n",
       " (141, 'Ершов', 'Митрофан', 250, 5, 'Пятигорск', datetime.datetime(2001, 5, 28, 0, 0), 22),\n",
       " (64, 'Жук', 'Оксана', 250, 1, 'Воркута', datetime.datetime(2000, 11, 16, 0, 0), 47),\n",
       " (12, 'Зайцева', 'Ольга', 250, 2, 'Липецк', datetime.datetime(2001, 5, 1, 0, 0), 10),\n",
       " (68, 'Казакова', 'Ольга', 250, 4, 'Кемерово', datetime.datetime(2000, 3, 29, 0, 0), 44),\n",
       " (130, 'Кудряшов', 'Роман', 250, 4, 'Нижний Новгород', datetime.datetime(1997, 8, 26, 0, 0), 32),\n",
       " (92, 'Мельникова', 'Светлана', 250, 4, 'Кропоткин (Краснод.)', datetime.datetime(1998, 3, 24, 0, 0), 15),\n",
       " (107, 'Морозов', 'Кирилл', 250, 2, 'Кропоткин (Краснод.)', datetime.datetime(2000, 9, 29, 0, 0), 44),\n",
       " (66, 'Некрасова', 'Вероника', 250, 2, 'Иркутск', datetime.datetime(2004, 8, 23, 0, 0), 10),\n",
       " (114, 'Панов', 'Арсений', 250, 1, 'Геленджик', datetime.datetime(1996, 12, 23, 0, 0), 32),\n",
       " (204, 'Петров', 'Вадим', 250, 2, 'Брянск', datetime.datetime(2002, 5, 21, 0, 0), 44),\n",
       " (203, 'Петрова', 'Екатерина', 250, 4, 'Белгород', datetime.datetime(2001, 5, 21, 0, 0), 14),\n",
       " (72, 'Пономарева', 'Алина', 250, 2, 'Ангарск', datetime.datetime(2002, 10, 7, 0, 0), 48),\n",
       " (146, 'Русаков', 'Давид', 250, 2, 'Байкальск', datetime.datetime(1998, 8, 7, 0, 0), 47),\n",
       " (110, 'Суханов', 'Константин', 250, 3, 'Курск', datetime.datetime(1996, 11, 22, 0, 0), 14),\n",
       " (103, 'Трофимов', 'Владислав', 250, 5, 'Верхоянск', datetime.datetime(1995, 3, 24, 0, 0), 11)]"
      ]
     },
     "execution_count": 13,
     "metadata": {},
     "output_type": "execute_result"
    }
   ],
   "source": [
    "# Ваш код здесь\n",
    "\n",
    "#1\n",
    "# С помощью подзапроса напишите запрос, выводящий список студентов, получающих максимальную стипендию, \n",
    "# отсортировав его в алфавитном порядке по фамилиям\n",
    "\n",
    "sq = select(func.max(student.c.stipend)).scalar_subquery()\n",
    "\n",
    "s = select(student)\n",
    "s = s.where(student.c.stipend == sq)\n",
    "s = s.order_by(student.c.surname)\n",
    "\n",
    "print(s)\n",
    "\n",
    "result = conn.execute(s).fetchall()\n",
    "print(len(result))\n",
    "result"
   ]
  },
  {
   "cell_type": "code",
   "execution_count": 18,
   "id": "ea6f4758",
   "metadata": {
    "scrolled": true
   },
   "outputs": [
    {
     "name": "stdout",
     "output_type": "stream",
     "text": [
      "SELECT student.surname, student.name, date(student.birthday) AS date_1, student.stipend \n",
      "FROM student \n",
      "WHERE student.stipend > (SELECT avg(student.stipend) AS avg_1 \n",
      "FROM student)\n",
      "60\n"
     ]
    },
    {
     "data": {
      "text/plain": [
       "[('Иванов', 'Иван', '2002-12-03', 150),\n",
       " ('Петров', 'Петр', '2000-12-01', 200),\n",
       " ('Сидоров', 'Вадим', '1999-06-07', 150),\n",
       " ('Зайцева', 'Ольга', '2001-05-01', 250),\n",
       " ('Котов', 'Павел', '2001-02-28', 150),\n",
       " ('Белкин', 'Вадим', '2000-01-07', 250),\n",
       " ('Дуб', 'Елизавета', '2004-07-04', 150),\n",
       " ('Жук', 'Оксана', '2000-11-16', 250),\n",
       " ('Некрасова', 'Вероника', '2004-08-23', 250),\n",
       " ('Казакова', 'Ольга', '2000-03-29', 250)]"
      ]
     },
     "execution_count": 18,
     "metadata": {},
     "output_type": "execute_result"
    }
   ],
   "source": [
    "# 2. С помощью подзапроса напишите запрос, выводящий список студентов, \n",
    "# получающих стипендию, превышающую среднее значение стипендии.\n",
    "\n",
    "sq = select(func.avg(student.c.stipend)).scalar_subquery()\n",
    "\n",
    "s = select(student.c.surname, student.c.name, func.date(student.c.birthday), student.c.stipend)\n",
    "s = s.where(student.c.stipend > sq)\n",
    "\n",
    "print(s)\n",
    "\n",
    "result = conn.execute(s).fetchall()\n",
    "print(len(result))\n",
    "result[:10]"
   ]
  },
  {
   "cell_type": "code",
   "execution_count": 22,
   "id": "622fa4b1",
   "metadata": {
    "scrolled": true
   },
   "outputs": [
    {
     "name": "stdout",
     "output_type": "stream",
     "text": [
      "SELECT student.student_id, student.surname, student.name, student.stipend, student.kurs, student.city, student.birthday, student.univ_id \n",
      "FROM student \n",
      "WHERE student.univ_id IN (SELECT university.univ_id \n",
      "FROM university \n",
      "WHERE university.city = :city_1) ORDER BY student.univ_id\n",
      "22\n"
     ]
    },
    {
     "data": {
      "text/plain": [
       "[(1, 'Иванов', 'Иван', 150, 1, 'Орел', datetime.datetime(2002, 12, 3, 0, 0), 10),\n",
       " (3, 'Петров', 'Петр', 200, 3, 'Курск', datetime.datetime(2000, 12, 1, 0, 0), 10),\n",
       " (10, 'Кузнецов', 'Борис', 0, 2, 'Брянск', datetime.datetime(2001, 12, 8, 0, 0), 10),\n",
       " (12, 'Зайцева', 'Ольга', 250, 2, 'Липецк', datetime.datetime(2001, 5, 1, 0, 0), 10),\n",
       " (55, 'Белкин', 'Вадим', 250, 5, 'Воронеж', datetime.datetime(2000, 1, 7, 0, 0), 10),\n",
       " (62, 'Семенова', 'Вероника', 0, 3, 'Вологда', datetime.datetime(2003, 10, 4, 0, 0), 10),\n",
       " (65, 'Сергеева', 'Фёкла', 100, 5, None, datetime.datetime(2000, 2, 19, 0, 0), 10),\n",
       " (66, 'Некрасова', 'Вероника', 250, 2, 'Иркутск', datetime.datetime(2004, 8, 23, 0, 0), 10),\n",
       " (76, 'Мельникова', 'Дарья', 100, 5, 'Архангельск', datetime.datetime(2002, 8, 1, 0, 0), 10),\n",
       " (78, 'Агафонов', 'Василий', 150, 1, 'Грозный', datetime.datetime(1994, 10, 29, 0, 0), 10)]"
      ]
     },
     "execution_count": 22,
     "metadata": {},
     "output_type": "execute_result"
    }
   ],
   "source": [
    "# 3\n",
    "# С помощью подзапроса напишите запрос, выводящий список студентов, \n",
    "# обучающихся в Воронеже, с последующей сортировкой по идентификаторам университетов и курсам.\n",
    "\n",
    "sq = select(university.c.univ_id)\n",
    "sq = sq.where(university.c.city == 'Воронеж')\n",
    "\n",
    "s = select(student)\n",
    "s = s.where(student.c.univ_id.in_(sq))\n",
    "s = s.order_by(student.c.univ_id)\n",
    "\n",
    "print(s)\n",
    "\n",
    "result = conn.execute(s).fetchall()\n",
    "print(len(result))\n",
    "result[:10]"
   ]
  },
  {
   "cell_type": "code",
   "execution_count": 26,
   "id": "266f186e",
   "metadata": {},
   "outputs": [
    {
     "name": "stdout",
     "output_type": "stream",
     "text": [
      "SELECT student.student_id, student.surname, student.name, student.stipend, student.kurs, student.city, student.birthday, student.univ_id \n",
      "FROM student \n",
      "WHERE student.city != (SELECT university.city \n",
      "FROM university \n",
      "WHERE university.univ_id = student.univ_id)\n",
      "78\n"
     ]
    },
    {
     "data": {
      "text/plain": [
       "[(1, 'Иванов', 'Иван', 150, 1, 'Орел', datetime.datetime(2002, 12, 3, 0, 0), 10),\n",
       " (3, 'Петров', 'Петр', 200, 3, 'Курск', datetime.datetime(2000, 12, 1, 0, 0), 10),\n",
       " (10, 'Кузнецов', 'Борис', 0, 2, 'Брянск', datetime.datetime(2001, 12, 8, 0, 0), 10),\n",
       " (12, 'Зайцева', 'Ольга', 250, 2, 'Липецк', datetime.datetime(2001, 5, 1, 0, 0), 10),\n",
       " (56, 'Дуб', 'Елизавета', 150, 2, 'Усть-Кут', datetime.datetime(2004, 7, 4, 0, 0), 48),\n",
       " (57, 'Кудряшова', 'Вера', 100, 5, 'Нижневартовск', datetime.datetime(2002, 2, 18, 0, 0), 14),\n",
       " (60, 'Рожкова', 'Пелагея', 0, 3, 'Рубцовск', datetime.datetime(2001, 9, 15, 0, 0), 48),\n",
       " (61, 'Соколова', 'Ия', 100, 1, 'Колпашево', datetime.datetime(2002, 6, 25, 0, 0), 18),\n",
       " (62, 'Семенова', 'Вероника', 0, 3, 'Вологда', datetime.datetime(2003, 10, 4, 0, 0), 10),\n",
       " (63, 'Пак', 'Ирина', 100, 1, 'Магадан', datetime.datetime(2000, 8, 22, 0, 0), 15),\n",
       " (64, 'Жук', 'Оксана', 250, 1, 'Воркута', datetime.datetime(2000, 11, 16, 0, 0), 47),\n",
       " (66, 'Некрасова', 'Вероника', 250, 2, 'Иркутск', datetime.datetime(2004, 8, 23, 0, 0), 10),\n",
       " (68, 'Казакова', 'Ольга', 250, 4, 'Кемерово', datetime.datetime(2000, 3, 29, 0, 0), 44),\n",
       " (69, 'Шубина', 'Елена', 0, 2, 'Камень-на-Оби', datetime.datetime(2002, 8, 24, 0, 0), 45),\n",
       " (70, 'Миронова', 'Анна', 200, 2, 'Владикавказ', datetime.datetime(2000, 10, 8, 0, 0), 46),\n",
       " (71, 'Кондрат', 'Синицин', 200, 4, 'Ишим', datetime.datetime(2001, 2, 23, 0, 0), 18),\n",
       " (72, 'Пономарева', 'Алина', 250, 2, 'Ангарск', datetime.datetime(2002, 10, 7, 0, 0), 48),\n",
       " (73, 'Одинцова', 'Лидия', 100, 5, 'Верхний Баскунчак', datetime.datetime(2002, 3, 7, 0, 0), 44),\n",
       " (74, 'Гуляева', 'Рукижат', 0, 3, 'Невельск (Сахалин)', datetime.datetime(2002, 7, 23, 0, 0), 22),\n",
       " (75, 'Игнатова', 'Зинаида', 100, 5, 'Ростов', datetime.datetime(2000, 9, 26, 0, 0), 22),\n",
       " (76, 'Мельникова', 'Дарья', 100, 5, 'Архангельск', datetime.datetime(2002, 8, 1, 0, 0), 10),\n",
       " (77, 'Мишина', 'Светлана', 150, 2, 'Рыльск', datetime.datetime(1997, 5, 22, 0, 0), 18),\n",
       " (78, 'Агафонов', 'Василий', 150, 1, 'Грозный', datetime.datetime(1994, 10, 29, 0, 0), 10),\n",
       " (79, 'Афанасьева', 'Анжелика', 0, 2, 'Уфа', datetime.datetime(1996, 11, 22, 0, 0), 32),\n",
       " (80, 'Фролова', 'Василиса', 100, 3, 'Кисловодск', datetime.datetime(1999, 6, 2, 0, 0), 44),\n",
       " (82, 'Лапина', 'Элеонора', 150, 3, 'Джубга', datetime.datetime(1997, 11, 23, 0, 0), 45),\n",
       " (83, 'Сорокина', 'Ирина', 200, 3, 'Усмань', datetime.datetime(1993, 9, 28, 0, 0), 48),\n",
       " (85, 'Казакова', 'Мария', 150, 4, 'Нальчик', datetime.datetime(1994, 2, 18, 0, 0), 32),\n",
       " (86, 'Жукова', 'Фекла', 150, 3, 'Магадан', datetime.datetime(1998, 10, 6, 0, 0), 46),\n",
       " (88, 'Жданова', 'Ирина', 200, 3, 'Тверь', datetime.datetime(2002, 3, 2, 0, 0), 10),\n",
       " (89, 'Валерия', 'Овчинникова', 200, 5, 'Улан-Удэ', datetime.datetime(2000, 6, 15, 0, 0), 18),\n",
       " (90, 'Костина', 'Кира', 0, 4, 'Устюжна', datetime.datetime(1995, 7, 15, 0, 0), 14),\n",
       " (91, 'Блохина', 'Ираида', 250, 3, 'Новый Уренгой', datetime.datetime(1997, 3, 23, 0, 0), 22),\n",
       " (92, 'Мельникова', 'Светлана', 250, 4, 'Кропоткин (Краснод.)', datetime.datetime(1998, 3, 24, 0, 0), 15),\n",
       " (94, 'Васильева', 'Оксана', 0, 1, 'Кизилюрт', datetime.datetime(1994, 5, 14, 0, 0), 32),\n",
       " (95, 'Сорокина', 'Валерия', 150, 1, 'Енисейск', datetime.datetime(1995, 3, 1, 0, 0), 45),\n",
       " (97, 'Вишнякова', 'Анжела', 200, 2, 'Иваново', datetime.datetime(2002, 2, 10, 0, 0), 46),\n",
       " (99, 'Борисова', 'Марина', 150, 1, 'Рославль', datetime.datetime(1995, 8, 7, 0, 0), 10),\n",
       " (101, 'Калашников', 'Евгений', 200, 2, 'Калининград', datetime.datetime(1998, 2, 27, 0, 0), 48),\n",
       " (103, 'Трофимов', 'Владислав', 250, 5, 'Верхоянск', datetime.datetime(1995, 3, 24, 0, 0), 11),\n",
       " (104, 'Бирюков', 'Герасим', 0, 4, 'Жуковский', datetime.datetime(1999, 10, 16, 0, 0), 44),\n",
       " (105, 'Антонов', 'Анатолий', 100, 1, 'Сыктывкар', datetime.datetime(1997, 4, 8, 0, 0), 22),\n",
       " (107, 'Морозов', 'Кирилл', 250, 2, 'Кропоткин (Краснод.)', datetime.datetime(2000, 9, 29, 0, 0), 44),\n",
       " (108, 'Назаров', 'Икром', 150, 4, 'Саянск', datetime.datetime(2001, 12, 15, 0, 0), 47),\n",
       " (110, 'Суханов', 'Константин', 250, 3, 'Курск', datetime.datetime(1996, 11, 22, 0, 0), 14),\n",
       " (112, 'Захаров', 'Софон', 150, 3, 'Мурманск', datetime.datetime(1994, 3, 19, 0, 0), 46),\n",
       " (113, 'Аксенов', 'Валерий', 150, 1, 'Мурманск', datetime.datetime(1994, 10, 27, 0, 0), 10),\n",
       " (114, 'Панов', 'Арсений', 250, 1, 'Геленджик', datetime.datetime(1996, 12, 23, 0, 0), 32),\n",
       " (116, 'Федоров', 'Гостомысл', 100, 4, 'Новый Уренгой', datetime.datetime(2000, 11, 16, 0, 0), 10),\n",
       " (117, 'Лазарев', 'Константин', 100, 2, 'Славянск-на-Кубани', datetime.datetime(1998, 5, 22, 0, 0), 47),\n",
       " (118, 'Кондратьев', 'Николай', 150, 3, 'Ханты-Мансийск', datetime.datetime(1999, 10, 28, 0, 0), 14),\n",
       " (121, 'Воронова', 'Антонина', 0, 4, 'Усть-Джегута', datetime.datetime(1999, 2, 4, 0, 0), 46),\n",
       " (123, 'Веселов', 'Тимур', 150, 1, 'Невинномысск', datetime.datetime(1998, 4, 28, 0, 0), 11),\n",
       " (124, 'Юдин', 'Савва', 0, 2, 'Усинск', datetime.datetime(2001, 12, 2, 0, 0), 18),\n",
       " (125, 'Пономарев', 'Варфоромей', 200, 4, 'Улан-Удэ', datetime.datetime(2000, 12, 15, 0, 0), 44),\n",
       " (126, 'Жуков', 'Пров', 0, 3, 'Кыштым', datetime.datetime(1998, 9, 11, 0, 0), 11),\n",
       " (128, 'Васильев', 'Матвей', 100, 1, 'Чебоксары', datetime.datetime(2000, 7, 18, 0, 0), 46),\n",
       " (130, 'Кудряшов', 'Роман', 250, 4, 'Нижний Новгород', datetime.datetime(1997, 8, 26, 0, 0), 32),\n",
       " (131, 'Ковалев', 'Ефим', 200, 2, 'Волгоград', datetime.datetime(1995, 11, 28, 0, 0), 47),\n",
       " (133, 'Жуковский', 'Юрий', 150, 4, 'Сургут (Хант.)', datetime.datetime(1996, 5, 30, 0, 0), 22),\n",
       " (135, 'Комаров', 'Ипат', 0, 1, 'Нерчинск', datetime.datetime(2000, 7, 17, 0, 0), 14),\n",
       " (136, 'Ефимов', 'Яков', 200, 1, 'Тимашевск', datetime.datetime(2000, 9, 23, 0, 0), 32),\n",
       " (137, 'Кулаков', 'Феофан', 150, 3, 'Волоколамск', datetime.datetime(2001, 3, 14, 0, 0), 46),\n",
       " (139, 'Журавлев', 'Фома', 200, 2, 'Улан-Удэ', datetime.datetime(1997, 7, 12, 0, 0), 18),\n",
       " (140, 'Ширяев', 'Андрей', 150, 2, 'Джубга', datetime.datetime(1997, 9, 13, 0, 0), 46),\n",
       " (141, 'Ершов', 'Митрофан', 250, 5, 'Пятигорск', datetime.datetime(2001, 5, 28, 0, 0), 22),\n",
       " (143, 'Бирюков', 'Мартин', 100, 4, 'Курганинск', datetime.datetime(2000, 11, 14, 0, 0), 47),\n",
       " (144, 'Ситников', 'Викентий', 150, 5, 'Иркутск', datetime.datetime(2003, 10, 5, 0, 0), 46),\n",
       " (146, 'Русаков', 'Давид', 250, 2, 'Байкальск', datetime.datetime(1998, 8, 7, 0, 0), 47),\n",
       " (147, 'Симонов', 'Семен', 100, 5, 'Беломорск', datetime.datetime(2000, 3, 17, 0, 0), 22),\n",
       " (148, 'Гуляев', 'Кузьма', 150, 5, 'Корсаков', datetime.datetime(1999, 10, 13, 0, 0), 44),\n",
       " (149, 'Вячеслав', 'Пахомов', 250, 3, 'Игарка', datetime.datetime(1997, 5, 14, 0, 0), 14),\n",
       " (201, 'Архипов', 'Андрей', 180, 1, 'Орел', datetime.datetime(2000, 1, 28, 0, 0), 22),\n",
       " (202, 'Владимиров', 'Анатолий', 200, 2, 'Курск', datetime.datetime(2003, 5, 21, 0, 0), 14),\n",
       " (204, 'Петров', 'Вадим', 250, 2, 'Брянск', datetime.datetime(2002, 5, 21, 0, 0), 44),\n",
       " (205, 'Иванова', 'Мария', 200, 1, 'Липецк', datetime.datetime(2002, 4, 11, 0, 0), 32),\n",
       " (206, 'Киселев', 'Владимир', 210, 2, 'Орел', datetime.datetime(2003, 2, 10, 0, 0), 44),\n",
       " (276, 'Петров', 'Антон', 200, 4, 'Ульяновск', datetime.datetime(2001, 8, 5, 0, 0), 22)]"
      ]
     },
     "execution_count": 26,
     "metadata": {},
     "output_type": "execute_result"
    }
   ],
   "source": [
    "# 5\n",
    "#Напишите запрос, выполняющий вывод имен и фамилий студентов, место проживания которых \n",
    "#не совпадает с городом, в котором находится их университет.\n",
    "\n",
    "sq = select(university.c.city)\n",
    "sq = sq.where(university.c.univ_id == student.c.univ_id).scalar_subquery()\n",
    "\n",
    "s = select(student)\n",
    "s = s.where(student.c.city != sq)\n",
    "\n",
    "print(s)\n",
    "\n",
    "result = conn.execute(s).fetchall()\n",
    "print(len(result))\n",
    "result"
   ]
  },
  {
   "cell_type": "markdown",
   "id": "1692a8d7",
   "metadata": {},
   "source": [
    "# Домашнее задание"
   ]
  },
  {
   "cell_type": "markdown",
   "id": "7ccda13b",
   "metadata": {},
   "source": [
    "1. Выполнить отображение БД Chinook\n",
    "\n",
    "<img src=\"../Img/chinook_ERD.png\" style=\"width:100%\">\n",
    "\n",
    "2. Выполнить запросы с помощью подзапросов.\n",
    "\n",
    "2.1. Составьте запрос, выполняющий вывод информации о счетах клиентов из Бразилии. Результат должен содержать фамилию и имя клиента, идентификатор счета, дату выставления счета, название страны плательщика (Billing Country).\n",
    "\n",
    "2.2. Покажите сотрудников, подчиняющихся сотруднику *Nancy Edwards*.\n",
    "\n",
    "2.3. Покажите трэки в жанре *Classical*, длящиеся более 8 минут.\n",
    "\n",
    "2.4. Покажите альбомы, в составе которых более 25 трэков.\n",
    "\n",
    "2.5. Покажите жанры, в составе которых имеются трэки, длящиеся более 18 минут.\n",
    "\n",
    "2.6. Покажите артистов в жанре *Classical*.\n",
    "\n",
    "2.7. Найдите артистов, записавших альбомы, в которых более 20 произведений."
   ]
  }
 ],
 "metadata": {
  "kernelspec": {
   "display_name": "Python 3 (ipykernel)",
   "language": "python",
   "name": "python3"
  },
  "language_info": {
   "codemirror_mode": {
    "name": "ipython",
    "version": 3
   },
   "file_extension": ".py",
   "mimetype": "text/x-python",
   "name": "python",
   "nbconvert_exporter": "python",
   "pygments_lexer": "ipython3",
   "version": "3.9.7"
  }
 },
 "nbformat": 4,
 "nbformat_minor": 5
}
