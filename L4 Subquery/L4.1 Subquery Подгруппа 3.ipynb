{
 "cells": [
  {
   "cell_type": "markdown",
   "id": "0a1794a0",
   "metadata": {},
   "source": [
    "<img src=\"../Img/Python_SQL_PI.png\" style=\"width:100%\">\n",
    "\n",
    "\n",
    "<p style=\"font-size:22px;text-align:center\">Семинар 4.1. Подзапросы</p> \n",
    "\n",
    "<a id = Home></a>\n",
    "\n",
    "17 марта 2022 года, пн<br>\n",
    "Поток: ПИ20-1, ПИ20-2, ПИ20-3, ПИ20-4, ПИ20-5, ПИ20-6 (2 подгруппа)<br>\n",
    "\n",
    "\n",
    "21 марта 2022 года, чт<br>\n",
    "ПИ20-1, ПИ20-2, ПИ20-3, ПИ20-4, ПИ20-5, ПИ20-6 (3 подгруппа)<br>\n",
    "ПИ20-1, ПИ20-2, ПИ20-3, ПИ20-4, ПИ20-5, ПИ20-6 (4 подгруппа)<br>\n",
    "\n",
    "31 марта 2022 года, чт<br>\n",
    "ПИ20-1, ПИ20-2, ПИ20-3, ПИ20-4, ПИ20-5, ПИ20-6 (1 подгруппа)"
   ]
  },
  {
   "cell_type": "markdown",
   "id": "0ee8b784",
   "metadata": {},
   "source": [
    "\n",
    "```\n",
    "STUDENT\n",
    "STUDENT_ID — числовой код, идентифицирующий студента (идентификатор студента),\n",
    "SURNAME — фамилия студента,\n",
    "NAME — имя студента,\n",
    "STIPEND — стипендия, которую получает студент,\n",
    "KURS — курс, на котором учится студент,\n",
    "CITY — город, в котором живет студент,\n",
    "BIRTHDAY — дата рождения студента,\n",
    "UNIV_ID — идентификатор университета, в котором учится студент.\n",
    "\n",
    "\n",
    "LECTURER\n",
    "LECTURER_ID — идентификатор преподавателя,\n",
    "SURNAME — фамилия преподавателя,\n",
    "NAME — имя преподавателя,\n",
    "CITY — город, в котором живет преподаватель,\n",
    "UNIV_ID — идентификатор университета, в котором работает преподаватель\n",
    "\n",
    "\n",
    "SUBJECT\n",
    "SUBJ_ID — идентификатор предмета обучения,\n",
    "SUBJ_NAME — наименование предмета обучения,\n",
    "HOUR — количество часов, отводимых на изучение предмета,\n",
    "SEMESTER — семестр, в котором изучается данный предмет.\n",
    "\n",
    "\n",
    "UNIVERSITY\n",
    "UNIV_ID — идентификатор университета,\n",
    "UNIV_NAME — название университета,\n",
    "RATING — рейтинг университета,\n",
    "CITY — город, в котором расположен университет.\n",
    "\n",
    "\n",
    "EXAM_MARKS\n",
    "EXAM_ID — идентификатор экзамена,\n",
    "STUDENT_ID — идентификатор студента,\n",
    "SUBJ_ID — идентификатор предмета обучения,\n",
    "MARK — экзаменационная оценка,\n",
    "EXAM_DATE — дата экзамена.\n",
    "\n",
    "\n",
    "SUBJ_LECT\n",
    "LECTURER_ID — идентификатор преподавателя,\n",
    "SUBJ_ID — идентификатор предмета обучения.\n",
    "```\n",
    "\n",
    "<img src=\"../Img/Students_Schema.png\" style=\"width:60%\">"
   ]
  },
  {
   "cell_type": "markdown",
   "id": "2a41ddfc",
   "metadata": {},
   "source": [
    "<img src=../Img/pencil.png style=\"width:190px;height:190px\">\n",
    "<p style=\"background-color:powderblue; font-size:125%; color: rebeccapurple;\">Выполните задания</p>\n",
    "<p>Выполните задания в Jupyter Notebook</p>\n",
    "\n",
    "1. С помощью подзапроса напишите запрос, выводящий список студентов, получающих максимальную стипендию, отсортировав его в алфавитном порядке по фамилиям.\n",
    "2. С помощью подзапроса напишите запрос, выводящий список студентов, получающих стипендию, превышающую среднее значение стипендии.\n",
    "3. С помощью подзапроса напишите запрос, выводящий список студентов, обучающихся в Воронеже, с последующей сортировкой по идентификаторам университетов и курсам.\n",
    "4. С помощью подзапроса напишите запрос, выводящий список предметов, на изучение которых отведено максимальное количество часов.\n",
    "5. Напишите запрос, выполняющий вывод имен и фамилий студентов, место проживания которых не совпадает с городом, в котором находится их университет.\n",
    "6. С помощью подзапроса напишите запрос, выводящий список университетов, расположенных в Москве и имеющих рейтинг больший, чем у ВГУ."
   ]
  },
  {
   "cell_type": "code",
   "execution_count": null,
   "id": "2c04511e",
   "metadata": {},
   "outputs": [],
   "source": [
    "#! pip install sqlalchemy"
   ]
  },
  {
   "cell_type": "code",
   "execution_count": 1,
   "id": "6c75e5f7",
   "metadata": {},
   "outputs": [],
   "source": [
    "from sqlalchemy import MetaData, Table, create_engine, select, and_, or_, not_\n",
    "from sqlalchemy.sql import func"
   ]
  },
  {
   "cell_type": "code",
   "execution_count": 2,
   "id": "282c6499",
   "metadata": {},
   "outputs": [],
   "source": [
    "engine = create_engine('sqlite:///../Data/Students.db')\n",
    "metadata_obj = MetaData() # Объект-контейнер, содержит информацию о схеме данных\n",
    "metadata_obj.reflect(bind=engine) # Отображение БД\n",
    "# Вызов метода reflect() приводит к включению в объект metadata_obj словаря всех таблиц БД."
   ]
  },
  {
   "cell_type": "code",
   "execution_count": 20,
   "id": "56b8c8ad",
   "metadata": {},
   "outputs": [],
   "source": [
    "from datetime import datetime"
   ]
  },
  {
   "cell_type": "markdown",
   "id": "92b7d982",
   "metadata": {},
   "source": [
    "Несколько примеров получения информации о БД с помощью методов объекта ***metadata_obj***."
   ]
  },
  {
   "cell_type": "code",
   "execution_count": 3,
   "id": "cc461317",
   "metadata": {},
   "outputs": [
    {
     "data": {
      "text/plain": [
       "dict_keys(['city', 'exam_marks', 'student', 'university', 'subject', 'lecturer', 'subj_lect'])"
      ]
     },
     "execution_count": 3,
     "metadata": {},
     "output_type": "execute_result"
    }
   ],
   "source": [
    "# Таблицы в БД\n",
    "metadata_obj.tables.keys()"
   ]
  },
  {
   "cell_type": "code",
   "execution_count": 4,
   "id": "91452d21",
   "metadata": {},
   "outputs": [
    {
     "data": {
      "text/plain": [
       "'student'"
      ]
     },
     "execution_count": 4,
     "metadata": {},
     "output_type": "execute_result"
    }
   ],
   "source": [
    "# Имя конкретной таблицы\n",
    "metadata_obj.tables['student'].name"
   ]
  },
  {
   "cell_type": "code",
   "execution_count": 5,
   "id": "32d6e689",
   "metadata": {},
   "outputs": [
    {
     "data": {
      "text/plain": [
       "['student_id',\n",
       " 'surname',\n",
       " 'name',\n",
       " 'stipend',\n",
       " 'kurs',\n",
       " 'city',\n",
       " 'birthday',\n",
       " 'univ_id']"
      ]
     },
     "execution_count": 5,
     "metadata": {},
     "output_type": "execute_result"
    }
   ],
   "source": [
    "# Столбцы конкретной таблицы\n",
    "metadata_obj.tables['student'].columns.keys()"
   ]
  },
  {
   "cell_type": "code",
   "execution_count": 6,
   "id": "249a9747",
   "metadata": {},
   "outputs": [
    {
     "data": {
      "text/plain": [
       "Column('student_id', INTEGER(), table=<student>, primary_key=True, nullable=False)"
      ]
     },
     "execution_count": 6,
     "metadata": {},
     "output_type": "execute_result"
    }
   ],
   "source": [
    "# Информация о столбце\n",
    "metadata_obj.tables['student'].columns['student_id']"
   ]
  },
  {
   "cell_type": "code",
   "execution_count": 7,
   "id": "b886fe0d",
   "metadata": {},
   "outputs": [
    {
     "name": "stdout",
     "output_type": "stream",
     "text": [
      "city\n",
      "subject\n",
      "university\n",
      "lecturer\n",
      "student\n",
      "exam_marks\n",
      "subj_lect\n"
     ]
    }
   ],
   "source": [
    "for t in metadata_obj.sorted_tables:\n",
    "    print(t.name)"
   ]
  },
  {
   "cell_type": "code",
   "execution_count": 8,
   "id": "52d717c3",
   "metadata": {
    "scrolled": true
   },
   "outputs": [
    {
     "name": "stdout",
     "output_type": "stream",
     "text": [
      "city\n",
      "city.city_id\n",
      "city.name\n",
      "\n",
      "subject\n",
      "subject.subj_id\n",
      "subject.subj_name\n",
      "subject.hour\n",
      "subject.semester\n",
      "\n",
      "university\n",
      "university.univ_id\n",
      "university.univ_name\n",
      "university.rating\n",
      "university.city\n",
      "\n",
      "lecturer\n",
      "lecturer.lecturer_id\n",
      "lecturer.surname\n",
      "lecturer.name\n",
      "lecturer.city\n",
      "lecturer.univ_id\n",
      "\n",
      "student\n",
      "student.student_id\n",
      "student.surname\n",
      "student.name\n",
      "student.stipend\n",
      "student.kurs\n",
      "student.city\n",
      "student.birthday\n",
      "student.univ_id\n",
      "\n",
      "exam_marks\n",
      "exam_marks.exam_id\n",
      "exam_marks.student_id\n",
      "exam_marks.subj_id\n",
      "exam_marks.mark\n",
      "exam_marks.exam_date\n",
      "\n",
      "subj_lect\n",
      "subj_lect.lecturer_id\n",
      "subj_lect.subj_id\n",
      "\n"
     ]
    }
   ],
   "source": [
    "for t in metadata_obj.sorted_tables:\n",
    "    print(t.name)\n",
    "    for c in t.columns:\n",
    "        print(c)\n",
    "    print()"
   ]
  },
  {
   "cell_type": "code",
   "execution_count": 12,
   "id": "f163d8a0",
   "metadata": {},
   "outputs": [
    {
     "data": {
      "text/plain": [
       "sqlalchemy.sql.schema.MetaData"
      ]
     },
     "execution_count": 12,
     "metadata": {},
     "output_type": "execute_result"
    }
   ],
   "source": [
    "type(metadata_obj)"
   ]
  },
  {
   "cell_type": "markdown",
   "id": "4067b762",
   "metadata": {},
   "source": [
    "Создание объектов таблиц"
   ]
  },
  {
   "cell_type": "code",
   "execution_count": 15,
   "id": "8587f63f",
   "metadata": {},
   "outputs": [],
   "source": [
    "exam_marks=Table(\"exam_marks\", metadata_obj, autoload=True, autoload_with=\"engine\")\n",
    "lecturer=Table(\"lecturer\", metadata_obj, autoload=True, autoload_with=\"engine\")\n",
    "student=Table(\"student\", metadata_obj, autoload=True, autoload_with=\"engine\")\n",
    "subj_lect=Table(\"subj_lect\", metadata_obj, autoload=True, autoload_with=\"engine\")\n",
    "subject=Table(\"subject\", metadata_obj, autoload=True, autoload_with=\"engine\")\n",
    "university=Table(\"university\", metadata_obj, autolad=True, autolad_with=\"engine\")"
   ]
  },
  {
   "cell_type": "markdown",
   "id": "4e9aa92c",
   "metadata": {},
   "source": [
    "# Решение"
   ]
  },
  {
   "cell_type": "code",
   "execution_count": 16,
   "id": "29e05840",
   "metadata": {},
   "outputs": [],
   "source": [
    "conn=engine.connect() # Соединение"
   ]
  },
  {
   "cell_type": "code",
   "execution_count": 34,
   "id": "482f8eb5",
   "metadata": {
    "scrolled": true
   },
   "outputs": [
    {
     "name": "stdout",
     "output_type": "stream",
     "text": [
      "SELECT student.surname, student.name, strftime(:strftime_2, student.birthday) AS strftime_1, student.stipend \n",
      "FROM student \n",
      "WHERE student.stipend = (SELECT max(student.stipend) AS max_1 \n",
      "FROM student)\n",
      "18\n"
     ]
    },
    {
     "data": {
      "text/plain": [
       "[('Зайцева', 'Ольга', '2001-05-01', 250),\n",
       " ('Белкин', 'Вадим', '2000-01-07', 250),\n",
       " ('Жук', 'Оксана', '2000-11-16', 250),\n",
       " ('Некрасова', 'Вероника', '2004-08-23', 250),\n",
       " ('Казакова', 'Ольга', '2000-03-29', 250),\n",
       " ('Пономарева', 'Алина', '2002-10-07', 250),\n",
       " ('Блохина', 'Ираида', '1997-03-23', 250),\n",
       " ('Мельникова', 'Светлана', '1998-03-24', 250),\n",
       " ('Трофимов', 'Владислав', '1995-03-24', 250),\n",
       " ('Морозов', 'Кирилл', '2000-09-29', 250),\n",
       " ('Суханов', 'Константин', '1996-11-22', 250),\n",
       " ('Панов', 'Арсений', '1996-12-23', 250),\n",
       " ('Кудряшов', 'Роман', '1997-08-26', 250),\n",
       " ('Ершов', 'Митрофан', '2001-05-28', 250),\n",
       " ('Русаков', 'Давид', '1998-08-07', 250),\n",
       " ('Вячеслав', 'Пахомов', '1997-05-14', 250),\n",
       " ('Петрова', 'Екатерина', '2001-05-21', 250),\n",
       " ('Петров', 'Вадим', '2002-05-21', 250)]"
      ]
     },
     "execution_count": 34,
     "metadata": {},
     "output_type": "execute_result"
    }
   ],
   "source": [
    "# Ваш код здесь\n",
    "\n",
    "#1 С помощью подзапроса напишите запрос, выводящий список студентов, \n",
    "# получающих максимальную стипендию, отсортировав его в алфавитном порядке по фамилиям.\n",
    "\n",
    "subq = select(func.max(student.c.stipend)).scalar_subquery()\n",
    "\n",
    "s = select(student.c.surname, student.c.name, \n",
    "           func.strftime(\"%Y-%m-%d\",student.c.birthday), student.c.stipend)\n",
    "s = s.where(student.c.stipend == subq)\n",
    "\n",
    "print(s)\n",
    "\n",
    "result = conn.execute(s).fetchall()\n",
    "print(len(result))\n",
    "result"
   ]
  },
  {
   "cell_type": "code",
   "execution_count": 36,
   "id": "f3e53605",
   "metadata": {},
   "outputs": [
    {
     "name": "stdout",
     "output_type": "stream",
     "text": [
      "SELECT student.surname, student.name, date(student.birthday) AS date_1, student.stipend \n",
      "FROM student \n",
      "WHERE student.stipend > (SELECT avg(student.stipend) AS avg_1 \n",
      "FROM student)\n",
      "60\n"
     ]
    },
    {
     "data": {
      "text/plain": [
       "[('Иванов', 'Иван', '2002-12-03', 150),\n",
       " ('Петров', 'Петр', '2000-12-01', 200),\n",
       " ('Сидоров', 'Вадим', '1999-06-07', 150),\n",
       " ('Зайцева', 'Ольга', '2001-05-01', 250),\n",
       " ('Котов', 'Павел', '2001-02-28', 150),\n",
       " ('Белкин', 'Вадим', '2000-01-07', 250),\n",
       " ('Дуб', 'Елизавета', '2004-07-04', 150),\n",
       " ('Жук', 'Оксана', '2000-11-16', 250),\n",
       " ('Некрасова', 'Вероника', '2004-08-23', 250),\n",
       " ('Казакова', 'Ольга', '2000-03-29', 250)]"
      ]
     },
     "execution_count": 36,
     "metadata": {},
     "output_type": "execute_result"
    }
   ],
   "source": [
    "# 2 С помощью подзапроса напишите запрос, выводящий список студентов,\n",
    "# получающих стипендию, превышающую среднее значение стипендии.\n",
    "\n",
    "subq = select(func.avg(student.c.stipend)).scalar_subquery()\n",
    "\n",
    "s = select(student.c.surname, student.c.name, \n",
    "           func.date(student.c.birthday), student.c.stipend)\n",
    "s = s.where(student.c.stipend > subq)\n",
    "\n",
    "print(s)\n",
    "\n",
    "result = conn.execute(s).fetchall()\n",
    "print(len(result))\n",
    "result[:10]"
   ]
  },
  {
   "cell_type": "code",
   "execution_count": 39,
   "id": "67fd0397",
   "metadata": {},
   "outputs": [
    {
     "name": "stdout",
     "output_type": "stream",
     "text": [
      "SELECT student.surname, student.name, student.univ_id \n",
      "FROM student \n",
      "WHERE student.univ_id IN (SELECT university.univ_id \n",
      "FROM university \n",
      "WHERE university.city = :city_1) {'city_1': 'Воронеж'}\n",
      "22\n"
     ]
    },
    {
     "data": {
      "text/plain": [
       "[('Иванов', 'Иван', 10),\n",
       " ('Петров', 'Петр', 10),\n",
       " ('Кузнецов', 'Борис', 10),\n",
       " ('Зайцева', 'Ольга', 10),\n",
       " ('Белкин', 'Вадим', 10),\n",
       " ('Соколова', 'Ия', 18),\n",
       " ('Семенова', 'Вероника', 10),\n",
       " ('Сергеева', 'Фёкла', 10),\n",
       " ('Некрасова', 'Вероника', 10),\n",
       " ('Кондрат', 'Синицин', 18),\n",
       " ('Мельникова', 'Дарья', 10),\n",
       " ('Мишина', 'Светлана', 18),\n",
       " ('Агафонов', 'Василий', 10),\n",
       " ('Жданова', 'Ирина', 10),\n",
       " ('Валерия', 'Овчинникова', 18),\n",
       " ('Борисова', 'Марина', 10),\n",
       " ('Аксенов', 'Валерий', 10),\n",
       " ('Федоров', 'Гостомысл', 10),\n",
       " ('Юдин', 'Савва', 18),\n",
       " ('Журавлев', 'Фома', 18),\n",
       " ('Павлов', 'Андрей', 10),\n",
       " ('Лукин', 'Артем', 10)]"
      ]
     },
     "execution_count": 39,
     "metadata": {},
     "output_type": "execute_result"
    }
   ],
   "source": [
    "# 3\n",
    "\n",
    "sq = select(university.c.univ_id)\n",
    "sq = sq.where(university.c.city == 'Воронеж')\n",
    "\n",
    "s = select(student.c.surname, student.c.name, student.c.univ_id)\n",
    "s = s.where(student.c.univ_id.in_(sq))\n",
    "\n",
    "print(s, s.compile().params)\n",
    "\n",
    "result = conn.execute(s).fetchall()\n",
    "print(len(result))\n",
    "result"
   ]
  },
  {
   "cell_type": "code",
   "execution_count": 42,
   "id": "9975f1a3",
   "metadata": {},
   "outputs": [
    {
     "name": "stdout",
     "output_type": "stream",
     "text": [
      "SELECT subject.subj_id, subject.subj_name, subject.hour, subject.semester \n",
      "FROM subject \n",
      "WHERE subject.hour = (SELECT max(subject.hour) AS max_1 \n",
      "FROM subject)\n",
      "1\n"
     ]
    },
    {
     "data": {
      "text/plain": [
       "[(23, 'Теория вероятностей и математическая статистика', 72, 4)]"
      ]
     },
     "execution_count": 42,
     "metadata": {},
     "output_type": "execute_result"
    }
   ],
   "source": [
    "# 4 С помощью подзапроса напишите запрос, выводящий список предметов, \n",
    "# на изучение которых отведено максимальное количество часов.\n",
    "\n",
    "sq = select(func.max(subject.c.hour)).scalar_subquery()\n",
    "\n",
    "s = select(subject)\n",
    "s = s.where(subject.c.hour == sq)\n",
    "\n",
    "print(s)\n",
    "\n",
    "result = conn.execute(s).fetchall()\n",
    "print(len(result))\n",
    "result"
   ]
  },
  {
   "cell_type": "code",
   "execution_count": 48,
   "id": "b46f4d0f",
   "metadata": {},
   "outputs": [
    {
     "name": "stdout",
     "output_type": "stream",
     "text": [
      "SELECT student.surname, student.name \n",
      "FROM student \n",
      "WHERE student.city != (SELECT university.city \n",
      "FROM university \n",
      "WHERE university.univ_id = student.univ_id)\n",
      "78\n"
     ]
    },
    {
     "data": {
      "text/plain": [
       "[('Иванов', 'Иван'),\n",
       " ('Петров', 'Петр'),\n",
       " ('Кузнецов', 'Борис'),\n",
       " ('Зайцева', 'Ольга'),\n",
       " ('Дуб', 'Елизавета'),\n",
       " ('Кудряшова', 'Вера'),\n",
       " ('Рожкова', 'Пелагея'),\n",
       " ('Соколова', 'Ия'),\n",
       " ('Семенова', 'Вероника'),\n",
       " ('Пак', 'Ирина'),\n",
       " ('Жук', 'Оксана'),\n",
       " ('Некрасова', 'Вероника'),\n",
       " ('Казакова', 'Ольга'),\n",
       " ('Шубина', 'Елена'),\n",
       " ('Миронова', 'Анна'),\n",
       " ('Кондрат', 'Синицин'),\n",
       " ('Пономарева', 'Алина'),\n",
       " ('Одинцова', 'Лидия'),\n",
       " ('Гуляева', 'Рукижат'),\n",
       " ('Игнатова', 'Зинаида'),\n",
       " ('Мельникова', 'Дарья'),\n",
       " ('Мишина', 'Светлана'),\n",
       " ('Агафонов', 'Василий'),\n",
       " ('Афанасьева', 'Анжелика'),\n",
       " ('Фролова', 'Василиса'),\n",
       " ('Лапина', 'Элеонора'),\n",
       " ('Сорокина', 'Ирина'),\n",
       " ('Казакова', 'Мария'),\n",
       " ('Жукова', 'Фекла'),\n",
       " ('Жданова', 'Ирина'),\n",
       " ('Валерия', 'Овчинникова'),\n",
       " ('Костина', 'Кира'),\n",
       " ('Блохина', 'Ираида'),\n",
       " ('Мельникова', 'Светлана'),\n",
       " ('Васильева', 'Оксана'),\n",
       " ('Сорокина', 'Валерия'),\n",
       " ('Вишнякова', 'Анжела'),\n",
       " ('Борисова', 'Марина'),\n",
       " ('Калашников', 'Евгений'),\n",
       " ('Трофимов', 'Владислав'),\n",
       " ('Бирюков', 'Герасим'),\n",
       " ('Антонов', 'Анатолий'),\n",
       " ('Морозов', 'Кирилл'),\n",
       " ('Назаров', 'Икром'),\n",
       " ('Суханов', 'Константин'),\n",
       " ('Захаров', 'Софон'),\n",
       " ('Аксенов', 'Валерий'),\n",
       " ('Панов', 'Арсений'),\n",
       " ('Федоров', 'Гостомысл'),\n",
       " ('Лазарев', 'Константин'),\n",
       " ('Кондратьев', 'Николай'),\n",
       " ('Воронова', 'Антонина'),\n",
       " ('Веселов', 'Тимур'),\n",
       " ('Юдин', 'Савва'),\n",
       " ('Пономарев', 'Варфоромей'),\n",
       " ('Жуков', 'Пров'),\n",
       " ('Васильев', 'Матвей'),\n",
       " ('Кудряшов', 'Роман'),\n",
       " ('Ковалев', 'Ефим'),\n",
       " ('Жуковский', 'Юрий'),\n",
       " ('Комаров', 'Ипат'),\n",
       " ('Ефимов', 'Яков'),\n",
       " ('Кулаков', 'Феофан'),\n",
       " ('Журавлев', 'Фома'),\n",
       " ('Ширяев', 'Андрей'),\n",
       " ('Ершов', 'Митрофан'),\n",
       " ('Бирюков', 'Мартин'),\n",
       " ('Ситников', 'Викентий'),\n",
       " ('Русаков', 'Давид'),\n",
       " ('Симонов', 'Семен'),\n",
       " ('Гуляев', 'Кузьма'),\n",
       " ('Вячеслав', 'Пахомов'),\n",
       " ('Архипов', 'Андрей'),\n",
       " ('Владимиров', 'Анатолий'),\n",
       " ('Петров', 'Вадим'),\n",
       " ('Иванова', 'Мария'),\n",
       " ('Киселев', 'Владимир'),\n",
       " ('Петров', 'Антон')]"
      ]
     },
     "execution_count": 48,
     "metadata": {},
     "output_type": "execute_result"
    }
   ],
   "source": [
    "# 5\n",
    "# Напишите запрос, выполняющий вывод имен и фамилий студентов, \n",
    "# место проживания которых не совпадает с городом, в котором находится их университет.\n",
    "\n",
    "sq = select(university.c.city)\n",
    "sq = sq.where(university.c.univ_id == student.c.univ_id).scalar_subquery()\n",
    "\n",
    "s = select(student.c.surname, student.c.name)\n",
    "s = s.where(student.c.city != sq)\n",
    "\n",
    "print(s)\n",
    "\n",
    "result = conn.execute(s).fetchall()\n",
    "print(len(result))\n",
    "result"
   ]
  },
  {
   "cell_type": "markdown",
   "id": "a71aa122",
   "metadata": {},
   "source": [
    "# Домашнее задание"
   ]
  },
  {
   "cell_type": "markdown",
   "id": "ea296e40",
   "metadata": {},
   "source": [
    "1. Выполнить отображение БД Chinook\n",
    "\n",
    "<img src=\"../Img/chinook_ERD.png\" style=\"width:100%\">\n",
    "\n",
    "2. Выполнить запросы с помощью подзапросов.\n",
    "\n",
    "2.1. Составьте запрос, выполняющий вывод информации о счетах клиентов из Бразилии. Результат должен содержать фамилию и имя клиента, идентификатор счета, дату выставления счета, название страны плательщика (Billing Country).\n",
    "\n",
    "2.2. Покажите сотрудников, подчиняющихся сотруднику *Nancy Edwards*.\n",
    "\n",
    "2.3. Покажите трэки в жанре *Classical*, длящиеся более 8 минут.\n",
    "\n",
    "2.4. Покажите альбомы, в составе которых более 25 трэков.\n",
    "\n",
    "2.5. Покажите жанры, в составе которых имеются трэки, длящиеся более 18 минут.\n",
    "\n",
    "2.6. Покажите артистов в жанре *Classical*.\n",
    "\n",
    "2.7. Найдите артистов, записавших альбомы, в которых более 20 произведений."
   ]
  }
 ],
 "metadata": {
  "kernelspec": {
   "display_name": "Python 3 (ipykernel)",
   "language": "python",
   "name": "python3"
  },
  "language_info": {
   "codemirror_mode": {
    "name": "ipython",
    "version": 3
   },
   "file_extension": ".py",
   "mimetype": "text/x-python",
   "name": "python",
   "nbconvert_exporter": "python",
   "pygments_lexer": "ipython3",
   "version": "3.9.7"
  }
 },
 "nbformat": 4,
 "nbformat_minor": 5
}
