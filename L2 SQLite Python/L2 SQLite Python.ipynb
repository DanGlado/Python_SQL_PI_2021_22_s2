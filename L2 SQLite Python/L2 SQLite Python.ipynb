{
 "cells": [
  {
   "cell_type": "markdown",
   "id": "8f3edde5",
   "metadata": {},
   "source": [
    "<img src=\"../Img/Python_SQL_PI.png\" style=\"width:100%\">\n",
    "\n",
    "\n",
    "<p style=\"font-size:22px;text-align:center\">Лекция 2. Технология работы с базами данных с помощью Python <br><br> на примере библиотеки <i>sqlite3</i></p> \n",
    "\n",
    "24 февраля 2022 года<br>\n",
    "Поток: ПИ20-1, ПИ20-2, ПИ20-3<br>\n",
    "\n",
    "28 февраля 2022 года<br>\n",
    "Поток: ПИ20-4, ПИ20-5, ПИ20-6<br>\n",
    "\n",
    "\n",
    "<a id = Home></a>\n",
    "\n",
    "<p style=\"font-size:18px;text-align:left\">Учебные вопросы</p>\n",
    "\n",
    "1. [Библиотеки для работы с реляционными базами данных в Python](#1)\n",
    "2. [Создание базы данных SQLite из программы Python.](#2)\n",
    "3. [Создание таблиц в базе данных SQLite с помощью Python.](#3)\n",
    "4. [Вставка данных в базу данных SQLite с помощью Python.](#4)\n",
    "5. [Обновление данных в базе данных SQLite с помощью Python.](#5)\n",
    "6. [Удаление данных в базе данных SQLite с помощью Python.](#6)\n",
    "7. [Запросы к данным базы данных SQLite с помощью Python.](#7)"
   ]
  },
  {
   "cell_type": "markdown",
   "id": "ad80dec2",
   "metadata": {},
   "source": [
    "<a id=1></a> [К оглавлению](#Home)\n",
    "\n",
    "### 1. Работа с базами данных в Python\n",
    "\n",
    "Популярными инструментами для работы с базами данных в Python являются библиотеки:\n",
    "\n",
    "sqlite3: https://docs.python.org/3/library/sqlite3.html ; https://pypi.python.org/pypi/pysqlite <br>\n",
    "APSW: https://rogerbinns.github.io/apsw/ <br>\n",
    "SQLAlchemy: https://www.sqlalchemy.org/\n",
    "\n",
    "    \n",
    "На этом занятии изучим работу с базами данных с помощью библиотеки *sqlite3*."
   ]
  },
  {
   "cell_type": "markdown",
   "id": "257094fd",
   "metadata": {},
   "source": [
    "<a id=2></a>[К оглавлению](#Home)\n",
    "\n",
    "### 2. Создание базы данных SQLite из программы Python\n",
    "\n",
    "Библиотека *sqlite3* позволяет создавать и использовать базы данных в формате СУБД SQLite. Официальный сайт этой СУБД: www.sqlite.org\n",
    "\n",
    "Покажем, как создать новую базу данных SQLite из программы Python с помощью библиотеки *sqlite3*.\n",
    "\n",
    "Чтобы создать новую базу данных SQLite достаточно создать подключение к ней и файл базы данных будет создан автоматически. Для этого, сначала нам нужно создать объект Connection с помощью функции `connect()`. Например, следующая программа Python создает новый файл базы данных *projects.sqlite* в текущей папке. Если требуется создать файл базы данных в конкретной папке, необходимо в месте с именем файла указать путь к ней, например: ```\"D:/Data/pythonsqlite.db\"```."
   ]
  },
  {
   "cell_type": "code",
   "execution_count": 1,
   "id": "f9778017",
   "metadata": {},
   "outputs": [],
   "source": [
    "import sqlite3\n",
    "from sqlite3 import Error"
   ]
  },
  {
   "cell_type": "code",
   "execution_count": 2,
   "id": "aff37c5f",
   "metadata": {},
   "outputs": [],
   "source": [
    "def create_connection(db_file):\n",
    "    \"\"\" create a database connection to a SQLite database \"\"\"\n",
    "    conn = None\n",
    "    try:\n",
    "        conn = sqlite3.connect(db_file)\n",
    "        print(sqlite3.version)\n",
    "    except Error as e:\n",
    "        print(e)\n",
    "    finally:\n",
    "        if conn:\n",
    "            conn.close()"
   ]
  },
  {
   "cell_type": "code",
   "execution_count": 3,
   "id": "d04f3a63",
   "metadata": {},
   "outputs": [
    {
     "name": "stdout",
     "output_type": "stream",
     "text": [
      "2.6.0\n"
     ]
    }
   ],
   "source": [
    "if __name__ == '__main__':\n",
    "    create_connection(\"projects.sqlite\") # Создание файла БД в текущей папке"
   ]
  },
  {
   "cell_type": "markdown",
   "id": "f1aceea7",
   "metadata": {},
   "source": [
    "Во-первых, мы определяем функцию с именем `create_connection()`, которая подключается к базе данных SQLite, указанной в файле базы данных `db_file`. Внутри функции мы вызываем функцию `connect()` модуля sqlite3.\n",
    "\n",
    "Функция `connect()` открывает соединение с базой данных SQLite. Он возвращает объект `Connection`, представляющий базу данных. Используя объект `Connection`, мы выполняем различные операции с базой данных.\n",
    "\n",
    "В случае возникновения ошибки мы перехватываем ее в блоке `try except` и отображаем сообщение об ошибке. Если все в порядке, мы показываем версию базы данных SQLite.\n",
    "\n",
    "Хорошей практикой является завершение соединения с базой данных, если она больше не используется.\n",
    "\n",
    "Во-вторых, мы передаем путь к файлу базы данных функции `create_connection()` для создания базы данных.\n",
    "\n",
    "Существует возможность создания файла БД в оперативной памяти компьютера. Для этого необходимо использовать параметр `:memory:` функции `Connect()` вместо имени файла.\n",
    "\n",
    "```\n",
    "create_connection(\":memory:\")\n",
    "```"
   ]
  },
  {
   "cell_type": "markdown",
   "id": "65d83a32",
   "metadata": {},
   "source": [
    "<a id=3></a> [К оглавлению](#Home)\n",
    "\n",
    "### 3. Создание таблиц базы данных SQLite с помощью Python\n",
    "\n",
    "Покажем, как создавать таблицы в базе данных SQLite с помощью Python.\n",
    "\n",
    "Чтобы создать новую таблицу в базе данных SQLite, выполним следующие действия:\n",
    "\n",
    "1. Напишем выражения, обеспечивающие создание таблиц на языке SQL.\n",
    "2. Создадим объект *Connection*, используя функцию `connect()` *sqlite3*.\n",
    "3. Создадим объект *Cursor*, вызвав метод `cursor()` объекта *Connection*.\n",
    "4. Передадим SQL-выражение методу `execute()` объекта *Cursor* и выполним этот метод.\n",
    "\n",
    "Создадим две таблицы: \"проект\" и \"задача\", как показано на следующей диаграмме:\n",
    "\n",
    "<img src=\"../Img/Python-SQLite-Sample-Database.jpg\" style=\"width:50%\">\n",
    "\n",
    "Для создания такой БД потребуется следующий код на языке SQL:\n",
    "\n",
    "```\n",
    "-- project table\n",
    "CREATE TABLE IF NOT EXISTS project (\n",
    "\tid integer PRIMARY KEY,\n",
    "\tname text NOT NULL,\n",
    "\tbegin_date text,\n",
    "\tend_date text\n",
    ");\n",
    "\n",
    "-- task table\n",
    "CREATE TABLE IF NOT EXISTS task (\n",
    "\tid integer PRIMARY KEY,\n",
    "\tname text NOT NULL,\n",
    "\tpriority integer,\n",
    "\tproject_id integer NOT NULL,\n",
    "\tstatus_id integer NOT NULL,\n",
    "\tbegin_date text NOT NULL,\n",
    "\tend_date text NOT NULL,\n",
    "\tFOREIGN KEY (project_id) REFERENCES projects (id)\n",
    ");\n",
    "```\n",
    "\n",
    "Создадим эти таблицы с помощью Python, следуя шагам вышеописанного алгоритма."
   ]
  },
  {
   "cell_type": "code",
   "execution_count": 4,
   "id": "6459a053",
   "metadata": {},
   "outputs": [],
   "source": [
    "create_table_project = \"\"\"\n",
    "CREATE TABLE IF NOT EXISTS project (\n",
    "    id integer PRIMARY KEY,\n",
    "    name text NOT NULL,\n",
    "    begin_date text,\n",
    "    end_date text\n",
    "); \"\"\"\n",
    "\n",
    "create_table_task = \"\"\"\n",
    "CREATE TABLE IF NOT EXISTS task (\n",
    "    id integer PRIMARY KEY,\n",
    "    name text NOT NULL,\n",
    "    priority integer,\n",
    "    project_id integer NOT NULL,\n",
    "    status_id integer NOT NULL,\n",
    "    begin_date text NOT NULL,\n",
    "    end_date text NOT NULL,\n",
    "    FOREIGN KEY (project_id) REFERENCES projects (id)\n",
    ");\n",
    "\"\"\""
   ]
  },
  {
   "cell_type": "markdown",
   "id": "9e001f80",
   "metadata": {},
   "source": [
    "Напишем две функции - одну для соединения с БД, вторую - для создания в базе данных *projects.sqlite* таблиц проектов и заданий с помощью SQL-выражений CREATE TABLE."
   ]
  },
  {
   "cell_type": "code",
   "execution_count": 5,
   "id": "2a9a90f1",
   "metadata": {},
   "outputs": [],
   "source": [
    "def create_connection(db_file):\n",
    "    \"\"\"\n",
    "    :return: Объект соединения или None\n",
    "    \"\"\"\n",
    "    conn = None\n",
    "    try:\n",
    "        conn = sqlite3.connect(db_file)\n",
    "        return conn\n",
    "    except Error as e:\n",
    "        print(e)\n",
    "\n",
    "    return conn\n",
    "\n",
    "def create_table(conn, sql_statement):\n",
    "    try:\n",
    "        crs = conn.cursor()\n",
    "        crs.execute(sql_statement)\n",
    "    except Error as e:\n",
    "        print(e)"
   ]
  },
  {
   "cell_type": "markdown",
   "id": "0108f615",
   "metadata": {},
   "source": [
    "Создадим главную функцию, объединяющую функциональность по созданию таблиц."
   ]
  },
  {
   "cell_type": "code",
   "execution_count": 6,
   "id": "d5abb5c1",
   "metadata": {},
   "outputs": [],
   "source": [
    "def main(database):\n",
    "    conn = create_connection(database)\n",
    "    if conn is not None:\n",
    "        create_table(conn, create_table_project)\n",
    "        create_table(conn, create_table_task)\n",
    "    else:\n",
    "        print(\"Ошибка! Не могу создать соединение с БД\")"
   ]
  },
  {
   "cell_type": "markdown",
   "id": "973e7bef",
   "metadata": {},
   "source": [
    "И, наконец, чтобы завершить код по созданию таблиц, вызовем главную функцию и передадим ей единственный параметр - имя базы данных."
   ]
  },
  {
   "cell_type": "code",
   "execution_count": 7,
   "id": "a24a23a8",
   "metadata": {},
   "outputs": [],
   "source": [
    "if __name__ == '__main__':\n",
    "    main(\"projects.sqlite\")"
   ]
  },
  {
   "cell_type": "markdown",
   "id": "3bcc778e",
   "metadata": {},
   "source": [
    "Чтобы убедиться, что таблицы созданы, откроем базу данных *projects.sqlite* в командном окне *sqlite3* и выполним команду `.tables`.\n",
    "\n",
    "<img src=\"../Img/sqlite3_command_line_1.png\" style=\"width:55%\">\n",
    "\n",
    "<a id=4></a> [К оглавлению](#Home)\n",
    "\n",
    "### 4. Вставка данных в базу данных SQLite с помощью Python\n",
    "\n",
    "Изучим этапы вставки данных в таблицы базы данных SQLite с помощью Python. Выполним следующие действия:\n",
    "\n",
    "1. Подключимся к базе данных SQLite, создав объект Connection.\n",
    "2. Создадим объект Cursor, вызвав метод курсора объекта Connection.\n",
    "3. Выполним SQL-выражение с оператором INSERT. Чтобы передать аргументы оператору INSERT, используем вопросительный знак (?) в качестве заполнителя для каждого аргумента.\n",
    "\n",
    "Создадим проект и несколько заданий."
   ]
  },
  {
   "cell_type": "code",
   "execution_count": 8,
   "id": "628bb9c0",
   "metadata": {},
   "outputs": [],
   "source": [
    "# Функция для создания соединения с базой данных\n",
    "def create_connection(db_file):\n",
    "    conn = None\n",
    "    try:\n",
    "        conn = sqlite3.connect(db_file)\n",
    "    except Error as e:\n",
    "        print(e)\n",
    "    return conn\n",
    "\n",
    "# Функция для добавления проекта\n",
    "# Создаёт проект, возвращает идентификатор проекта\n",
    "def create_project(conn, project_values):\n",
    "    sql = ''' \n",
    "    INSERT INTO project (name, begin_date, end_date) VALUES (?, ?, ?)\n",
    "    '''\n",
    "    cur = conn.cursor()\n",
    "    cur.execute(sql, project_values)\n",
    "    conn.commit()\n",
    "    return cur.lastrowid\n",
    "\n",
    "# Функция для добавления заданий проекта\n",
    "def create_task(conn, task_values):\n",
    "    \"\"\"\n",
    "    Создание задания\n",
    "    \"\"\"\n",
    "    sql = ''' \n",
    "    INSERT INTO task(name, priority, project_id, status_id, begin_date, end_date)\n",
    "        VALUES(?, ?, ?, ?, ?, ?)\n",
    "        '''\n",
    "    cur = conn.cursor()\n",
    "    cur.execute(sql, task_values)\n",
    "    conn.commit()\n",
    "    return cur.lastrowid\n",
    "\n",
    "# Основная функция\n",
    "def main():\n",
    "    database = \"projects.sqlite\"\n",
    "\n",
    "    # Создание соединения с базой данных\n",
    "    conn = create_connection(database)\n",
    "    with conn:\n",
    "        \n",
    "        # Создание нового проекта и заданий\n",
    "        project_1 = ('Cool App with SQLite & Python', '2022-02-10', '2022-02-28');\n",
    "        project_id = create_project(conn, project_1)\n",
    "        \n",
    "        task_1 = ('Analyze the requirements of the app', 1, project_id, 1, '2022-02-10', '2022-02-15')\n",
    "        task_2 = ('Confirm with user about the top requirements', 1, project_id, 1, '2022-02-15', '2022-02-28')\n",
    "        task_3 = ('Create documentation', 2, project_id, 1, '2022-02-28', '2022-03-07')\n",
    "        create_task(conn, task_1)\n",
    "        create_task(conn, task_2)\n",
    "        create_task(conn, task_3)\n",
    "        \n",
    "        # Создание еще одного проекта\n",
    "        project_2 = ('Cool App with SQLAlchemy', '2022-03-01', '2022-03-18')\n",
    "        project_id = create_project(conn, project_2)\n",
    "\n",
    "    conn.close()"
   ]
  },
  {
   "cell_type": "code",
   "execution_count": 9,
   "id": "26cbc796",
   "metadata": {},
   "outputs": [],
   "source": [
    "if __name__ == '__main__':\n",
    "    main()"
   ]
  },
  {
   "cell_type": "markdown",
   "id": "3b5d2a12",
   "metadata": {},
   "source": [
    "Подключимся к базе данных *projects.sqlite* с помощью интерфейса командной строки и проверим вставку записей проекта и заданий, выполнив SQL-запросы:\n",
    "\n",
    "```\n",
    ".open projects.sqlite\n",
    ".mode column\n",
    "select * from project;\n",
    "select * from task;\n",
    "```\n",
    "\n",
    "<img src=\"../Img/sqlite3_command_line_2.png\" style=\"width:100%\">"
   ]
  },
  {
   "cell_type": "markdown",
   "id": "8e013454",
   "metadata": {},
   "source": [
    "<a id=5></a> [К оглавлению](#Home)\n",
    "\n",
    "### 5. Обновление данных\n",
    "\n",
    "В этом разделе научимся с помощью Python обновлять данные в созданной ранее базе данных. Выполним следующие шаги алгоритма обновления данных.\n",
    "\n",
    "1. Подключимся к базе данных SQLite, создав объект *Connection*.\n",
    "2. Создадим объект *Cursor*, вызвав метод `cursor()` объекта *Connection*.\n",
    "3. Выполним команду `UPDATE` с помощью вызова метода `execute()` объекта *Cursor*.\n",
    "\n",
    "Изменим приоритет, начальную и конечную даты одного задания. Создадим функцию обновления данных, которая обновляет конкретное задание, находя его по идентификатору задания."
   ]
  },
  {
   "cell_type": "code",
   "execution_count": 10,
   "id": "4cbc9a99",
   "metadata": {},
   "outputs": [],
   "source": [
    "def create_connection(db_file):\n",
    "    conn = None\n",
    "    try:\n",
    "        conn = sqlite3.connect(db_file)\n",
    "    except Error as e:\n",
    "        print(e)\n",
    "    return conn\n",
    "\n",
    "def update_task(conn, task):\n",
    "    \"\"\"\n",
    "    обновляет приоритет, начальную дату, конечную дату задания\n",
    "    \"\"\"\n",
    "    sql = ''' UPDATE task\n",
    "              SET priority = ? ,\n",
    "                  begin_date = ? ,\n",
    "                  end_date = ?\n",
    "              WHERE id = ?'''\n",
    "    cur = conn.cursor()\n",
    "    cur.execute(sql, task)\n",
    "    conn.commit()\n",
    "\n",
    "\n",
    "def main():\n",
    "    database = \"projects.sqlite\"\n",
    "\n",
    "    # create a database connection\n",
    "    conn = create_connection(database)\n",
    "    with conn:\n",
    "        update_task(conn, (2, '2022-02-21', '2022-02-25', 2))"
   ]
  },
  {
   "cell_type": "markdown",
   "id": "3ee58cf3",
   "metadata": {},
   "source": [
    "Создадим соединение и передадим объект соединения в функцию обновления."
   ]
  },
  {
   "cell_type": "code",
   "execution_count": 11,
   "id": "1422eb86",
   "metadata": {},
   "outputs": [],
   "source": [
    "if __name__ == '__main__':\n",
    "    main()"
   ]
  },
  {
   "cell_type": "markdown",
   "id": "d324dcd4",
   "metadata": {},
   "source": [
    "Убедимся с помощью интерфейса командной строки, что изменения произошли.\n",
    "\n",
    "<img src=\"../Img/sqlite3_command_line_3.png\" style=\"width:100%\">\n",
    "\n",
    "<a id=6></a> [К оглавлению](#Home)\n",
    "\n",
    "### 6. Удаление данных\n",
    "\n",
    "В этом разделе научимся с помощью Python удалять данные в созданной ранее базе данных. Удалим одно из заданий. Выполним следующие шаги алгоритма удаления данных.\n",
    "\n",
    "1. Подключимся к базе данных SQLite, создав объект *Connection*.\n",
    "2. Создадим объект *Cursor*, вызвав метод `cursor()` объекта *Connection*.\n",
    "3. Выполним команду `DELETE` с помощью вызова метода `execute()` объекта *Cursor*. При необходимости передачи аргументов в метод *execute()* используем знаки вопроса (?).\n",
    "\n",
    "Создадим функцию удаления задания, одним из параметров функции станет идентификатор удаляемого задания. Также создадим функцию удаления всех заданий."
   ]
  },
  {
   "cell_type": "code",
   "execution_count": 12,
   "id": "f30ead4c",
   "metadata": {},
   "outputs": [],
   "source": [
    "def create_connection(db_file):\n",
    "    conn = None\n",
    "    try:\n",
    "        conn = sqlite3.connect(db_file)\n",
    "    except Error as e:\n",
    "        print(e)\n",
    "    return conn\n",
    "\n",
    "def delete_task(conn, id):\n",
    "    \"\"\"\n",
    "    Удаляет задание по идентификатору\n",
    "    \"\"\"\n",
    "    sql = 'DELETE FROM task WHERE id=?'\n",
    "    cur = conn.cursor()\n",
    "    cur.execute(sql, (id,))\n",
    "    conn.commit()\n",
    "\n",
    "def delete_all_tasks(conn):\n",
    "    \"\"\"\n",
    "    Удаляет все задания\n",
    "    \"\"\"\n",
    "    sql = 'DELETE FROM tasks'\n",
    "    cur = conn.cursor()\n",
    "    cur.execute(sql)\n",
    "    conn.commit()\n",
    "\n",
    "def main():\n",
    "    database = \"projects.sqlite\"\n",
    "\n",
    "    conn = create_connection(database)\n",
    "    with conn:\n",
    "        delete_task(conn, 2);\n",
    "        # delete_all_tasks(conn);"
   ]
  },
  {
   "cell_type": "markdown",
   "id": "790b9d25",
   "metadata": {},
   "source": [
    "Выполним шаги алгоритма по удалению задания 2."
   ]
  },
  {
   "cell_type": "code",
   "execution_count": 13,
   "id": "87d4da96",
   "metadata": {},
   "outputs": [],
   "source": [
    "if __name__ == '__main__':\n",
    "    main()"
   ]
  },
  {
   "cell_type": "markdown",
   "id": "26a0beae",
   "metadata": {},
   "source": [
    "Проверим результат с помощью интерфейса командной строки, запросив все записи таблицы *tasks* с помощью SQL-запроса\n",
    "\n",
    "```\n",
    "select * from tasks;\n",
    "```\n",
    "\n",
    "<img src=\"../Img/sqlite3_command_line_4.png\" style=\"width:100%\">\n",
    "\n",
    "Мы убедились, что в таблице заданий осталось на одно задание меньше.\n",
    "\n",
    "<a id=7></a> [К оглавлению](#Home)\n",
    "\n",
    "### 7. Запросы к данным\n",
    "\n",
    "В этом разделе научимся извлекать данные из базы данных SQLite с помощью Python.\n",
    "\n",
    "Для выполнения запроса к базе данных с помошщью Python выполним шаги следующего алгоритма.\n",
    "\n",
    "1. Подключимся к базе данных SQLite, создав объект *Connection*.\n",
    "2. Создадим объект *Cursor*, вызвав метод `cursor()` объекта *Connection*.\n",
    "3. Вполним команду SELECT.\n",
    "4. Выполним метод `fetchall()` курсора для получения данных.\n",
    "5. Пройдем в цикле по элементам курсора и обработаем каждую строку отдельно.\n",
    "\n",
    "<img src=\"../Img/Python-SQLite-Sample-Database.jpg\" style=\"width:50%\">"
   ]
  },
  {
   "cell_type": "markdown",
   "id": "ebc913b7",
   "metadata": {},
   "source": [
    "Создадим функцию, которая отбирает все записи таблицы заданий и функцию, отбирающую задания по приоритету."
   ]
  },
  {
   "cell_type": "code",
   "execution_count": 14,
   "id": "a2b108fb",
   "metadata": {},
   "outputs": [],
   "source": [
    "def select_all_tasks(conn):\n",
    "    \"\"\"\n",
    "    Запрашивает все записи таблицы заданий\n",
    "\n",
    "    \"\"\"\n",
    "    cur = conn.cursor()\n",
    "    cur.execute(\"SELECT * FROM task\")\n",
    "\n",
    "    rows = cur.fetchall()\n",
    "\n",
    "    for row in rows:\n",
    "        print(row)\n",
    "\n",
    "def select_task_by_priority(conn, priority):\n",
    "    \"\"\"\n",
    "    Отбирает задания по приоритету\n",
    "    \"\"\"\n",
    "    cur = conn.cursor()\n",
    "    cur.execute(\"SELECT * FROM task WHERE priority=?\", (priority,))\n",
    "\n",
    "    rows = cur.fetchall()\n",
    "\n",
    "    for row in rows:\n",
    "        print(row)"
   ]
  },
  {
   "cell_type": "markdown",
   "id": "6b399d78",
   "metadata": {},
   "source": [
    "В функции *select_task_by_priority()* мы выбрали задачи на основе определенного приоритета. Знак вопроса (?) в запросе является символом подстановки (заполнителем). Выполняя команду SELECT, курсор заменяет символ подстановки параметром функции. Метод `fetchall()` извлекает все найденные задачи.\n",
    "\n",
    "функция main() создаёт соединение и вызывает функцию запроса."
   ]
  },
  {
   "cell_type": "code",
   "execution_count": 15,
   "id": "cf509667",
   "metadata": {},
   "outputs": [],
   "source": [
    "def main():\n",
    "    database = \"projects.sqlite\"\n",
    "\n",
    "    # create a database connection\n",
    "    conn = create_connection(database)\n",
    "    with conn:\n",
    "        print(\"1. Query a task by priority:\")\n",
    "        select_task_by_priority(conn, 1)\n",
    "\n",
    "        print(\"2. Query all the tasks\")\n",
    "        select_all_tasks(conn)"
   ]
  },
  {
   "cell_type": "code",
   "execution_count": 16,
   "id": "7db99ad2",
   "metadata": {
    "scrolled": true
   },
   "outputs": [
    {
     "name": "stdout",
     "output_type": "stream",
     "text": [
      "1. Query a task by priority:\n",
      "(1, 'Analyze the requirements of the app', 1, 1, 1, '2022-02-10', '2022-02-15')\n",
      "2. Query all the tasks\n",
      "(1, 'Analyze the requirements of the app', 1, 1, 1, '2022-02-10', '2022-02-15')\n",
      "(3, 'Create documentation', 2, 1, 1, '2022-02-28', '2022-03-07')\n"
     ]
    }
   ],
   "source": [
    "main()"
   ]
  }
 ],
 "metadata": {
  "kernelspec": {
   "display_name": "Python 3 (ipykernel)",
   "language": "python",
   "name": "python3"
  },
  "language_info": {
   "codemirror_mode": {
    "name": "ipython",
    "version": 3
   },
   "file_extension": ".py",
   "mimetype": "text/x-python",
   "name": "python",
   "nbconvert_exporter": "python",
   "pygments_lexer": "ipython3",
   "version": "3.9.7"
  }
 },
 "nbformat": 4,
 "nbformat_minor": 5
}
