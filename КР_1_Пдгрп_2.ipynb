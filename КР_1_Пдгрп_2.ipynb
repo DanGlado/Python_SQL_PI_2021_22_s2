{
 "cells": [
  {
   "cell_type": "markdown",
   "id": "eb112363",
   "metadata": {},
   "source": [
    "<img src=\"../Img/Python_SQL_PI.png\" style=\"width:100%\">\n",
    "\n",
    "\n",
    "<p style=\"font-size:22px;text-align:center\">Контрольная работа 1</p>\n",
    "\n",
    "<a id = Home></a>\n",
    "\n",
    "7 апреля 2022 года, пн<br>\n",
    "ПИ20-1, ПИ20-2, ПИ20-3, ПИ20-4, ПИ20-5, ПИ20-6 (2 подгруппа) <br>"
   ]
  },
  {
   "cell_type": "markdown",
   "id": "e5100ec2",
   "metadata": {},
   "source": [
    "База данных \"Студенты\"\n",
    "\n",
    "```\n",
    "STUDENT\n",
    "STUDENT_ID — числовой код, идентифицирующий студента (идентификатор студента),\n",
    "SURNAME — фамилия студента,\n",
    "NAME — имя студента,\n",
    "STIPEND — стипендия, которую получает студент,\n",
    "KURS — курс, на котором учится студент,\n",
    "CITY — город, в котором живет студент,\n",
    "BIRTHDAY — дата рождения студента,\n",
    "UNIV_ID — идентификатор университета, в котором учится студент.\n",
    "\n",
    "LECTURER\n",
    "LECTURER_ID — идентификатор преподавателя,\n",
    "SURNAME — фамилия преподавателя,\n",
    "NAME — имя преподавателя,\n",
    "CITY — город, в котором живет преподаватель,\n",
    "UNIV_ID — идентификатор университета, в котором работает преподаватель\n",
    "\n",
    "SUBJECT\n",
    "SUBJ_ID — идентификатор предмета обучения,\n",
    "SUBJ_NAME — наименование предмета обучения,\n",
    "HOUR — количество часов, отводимых на изучение предмета,\n",
    "SEMESTER — семестр, в котором изучается данный предмет.\n",
    "\n",
    "UNIVERSITY\n",
    "UNIV_ID — идентификатор университета,\n",
    "UNIV_NAME — название университета,\n",
    "RATING — рейтинг университета,\n",
    "CITY — город, в котором расположен университет.\n",
    "\n",
    "EXAM_MARKS\n",
    "EXAM_ID — идентификатор экзамена,\n",
    "STUDENT_ID — идентификатор студента,\n",
    "SUBJ_ID — идентификатор предмета обучения,\n",
    "MARK — экзаменационная оценка,\n",
    "EXAM_DATE — дата экзамена.\n",
    "\n",
    "SUBJ_LECT\n",
    "LECTURER_ID — идентификатор преподавателя,\n",
    "SUBJ_ID — идентификатор предмета обучения.\n",
    "```\n",
    "\n",
    "<img src=\"../Img/Students_Schema.png\" style=\"width:79%\">"
   ]
  },
  {
   "cell_type": "code",
   "execution_count": 2,
   "id": "c094fda0",
   "metadata": {},
   "outputs": [],
   "source": [
    "from sqlalchemy import MetaData, Table, create_engine, select, and_, or_, not_\n",
    "from sqlalchemy.sql import func, distinct, exists"
   ]
  },
  {
   "cell_type": "code",
   "execution_count": 3,
   "id": "9a4a10a2",
   "metadata": {
    "scrolled": true
   },
   "outputs": [],
   "source": [
    "engine = create_engine('sqlite+pysqlite:///../Data/Students.db')\n",
    "conn = engine.connect()"
   ]
  },
  {
   "cell_type": "code",
   "execution_count": 4,
   "id": "9c2121c3",
   "metadata": {},
   "outputs": [],
   "source": [
    "metadata = MetaData() # Объект-контейнер, содержит информацию о схеме данных\n",
    "metadata.reflect(bind=engine) # Отображение БД"
   ]
  },
  {
   "cell_type": "code",
   "execution_count": 5,
   "id": "fffd9d89",
   "metadata": {},
   "outputs": [
    {
     "data": {
      "text/plain": [
       "dict_keys(['city', 'exam_marks', 'student', 'university', 'subject', 'lecturer', 'subj_lect'])"
      ]
     },
     "execution_count": 5,
     "metadata": {},
     "output_type": "execute_result"
    }
   ],
   "source": [
    "# Таблицы в БД\n",
    "metadata.tables.keys()"
   ]
  },
  {
   "cell_type": "code",
   "execution_count": 6,
   "id": "5430b4a6",
   "metadata": {},
   "outputs": [],
   "source": [
    "exam_marks=Table(\"exam_marks\", metadata, autoload=True, autoload_with=\"engine\")\n",
    "lecturer=Table(\"lecturer\", metadata, autoload=True, autoload_with=\"engine\")\n",
    "student=Table(\"student\", metadata, autoload=True, autoload_with=\"engine\")\n",
    "subj_lect=Table(\"subj_lect\", metadata, autoload=True, autoload_with=\"engine\")\n",
    "subject=Table(\"subject\", metadata, autoload=True, autoload_with=\"engine\")\n",
    "university=Table(\"university\", metadata, autolad=True, autolad_with=\"engine\")"
   ]
  },
  {
   "cell_type": "markdown",
   "id": "7d14ade3",
   "metadata": {},
   "source": [
    "<img src=../Img/pencil.png style=\"width:190px;height:190px\">\n",
    "<p style=\"background-color:powderblue; font-size:125%; color: rebeccapurple;\">Выполните задания</p>\n",
    "<p>Выполните задания c помощью Jupyter Notebook и библиотеки SQLAlchemy</p>\n",
    "\n",
    "1. Напишите запрос для получения идентификаторов, имён, фамилий и городов студентов без определенного места жительства.\n",
    "2. Напишите запрос для получения списка учебных заведений, названия которых состоят как минимум из трех слов.\n",
    "3. Напишите запрос, выполняющий вывод количества экзаменов, сдававшихся (вне зависимости от оценки) студентами 12, 32, 55. Результат должен содержать идентификатор студента и количество сданных им экзаменов. Результат упорядочить по убыванию количества экзаменов.\n",
    "4. Для каждого дня сдачи экзаменов, сдававшихся в мае, напишите запрос, выводящий максимальные оценки, полученные по каждому предмету.\n",
    "5. Для каждого предмета напишите запрос, выводящий количество преподавателей, ведущих по нему занятия. Результат должен содержать название предмета и число преподавателей.\n",
    "6. С помощью подзапроса напишите запрос, выполняющий вывод результатов экзаменов, сданных (оценка больше двух) по предметам первого семестра. Результат должен содержать идентификатор экзамена, идентификатор предмета, дату в формате YYYY-MM-DD.\n",
    "7. Отредактируйте следующий запрос с подзапросом, чтобы найти всех студентов, имеющих только отличные оценки.\n",
    "```\n",
    "s = \"\"\"\n",
    "SELECT DISTINCT student_id, surname, name\n",
    "FROM student st\n",
    "WHERE 4 < (\n",
    "    SELECT min(mark) FROM exam_marks em WHERE ...\n",
    ")\n",
    "\"\"\"\n",
    "```\n",
    "8. Напишите запрос, выполняющий вывод идентификаторов, фамилий, имён студентов, средняя оценка которых превышает 3 балла на экзаменах по предметам 3 семестра.\n",
    "9. Напишите запрос, выполняющий вывод списка идентификаторов, фамилий, имён, городов студентов, имеющих только отличные оценки и проживающих в городе, не совпадающем с городом их университета.\n",
    "10. Покажите ИД экзамена, ИД студента, ИД предмета, оценку, дату для всех экзаменов, сдававшихся студентами ВГУ.\n",
    "11. Напишите запрос, показывающий, сколько круглых отличников в каждом университете. Результат должен содержать название университета и число круглых отличников в нём.\n",
    "12. Напишите запрос, который выполняет выборку имен и фамилий всех студентов, имеющих по предмету c идентификатором 10 балл ниже общего среднего балла.\n",
    "13. С помощью EXISTS Напишите запрос, выполняющий вывод количества студентов, имеющих хотя бы одну неудовлетворительную оценку и проживающих в городе, не совпадающем с городом их университета.\n",
    "14. С помощью EXISTS Напишите запрос, выполняющий вывод количества студентов, не имеющих ни одной оценки.\n",
    "15.  Напишите запрос, показывающий дату первого экзамена в 2020 году, дату последнего экзамена в 2020 году, количество дней между первым и последним экзаменом в 2020 году. Подсказка: для установки фильтра на 2020 год можно использовать оператор LIKE, например `.where(func.date(exam_marks.c.exam_date).like(\"2020-%\"))`"
   ]
  }
 ],
 "metadata": {
  "kernelspec": {
   "display_name": "Python 3 (ipykernel)",
   "language": "python",
   "name": "python3"
  },
  "language_info": {
   "codemirror_mode": {
    "name": "ipython",
    "version": 3
   },
   "file_extension": ".py",
   "mimetype": "text/x-python",
   "name": "python",
   "nbconvert_exporter": "python",
   "pygments_lexer": "ipython3",
   "version": "3.9.7"
  }
 },
 "nbformat": 4,
 "nbformat_minor": 5
}
