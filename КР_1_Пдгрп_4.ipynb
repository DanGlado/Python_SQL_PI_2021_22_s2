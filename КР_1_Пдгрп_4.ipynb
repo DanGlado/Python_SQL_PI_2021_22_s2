{
 "cells": [
  {
   "cell_type": "markdown",
   "metadata": {},
   "source": [
    "<img src=\"../Img/Python_SQL_PI.png\" style=\"width:100%\">\n",
    "\n",
    "\n",
    "<p style=\"font-size:22px;text-align:center\">Контрольная работа 1</p>\n",
    "\n",
    "<a id = Home></a>\n",
    "\n",
    "4 апреля 2022 года, пн<br>\n",
    "ПИ20-1, ПИ20-2, ПИ20-3, ПИ20-4, ПИ20-5, ПИ20-6 (4 подгруппа) <br>"
   ]
  },
  {
   "cell_type": "markdown",
   "metadata": {},
   "source": [
    "База данных \"Студенты\"\n",
    "\n",
    "```\n",
    "STUDENT\n",
    "STUDENT_ID — числовой код, идентифицирующий студента (идентификатор студента),\n",
    "SURNAME — фамилия студента,\n",
    "NAME — имя студента,\n",
    "STIPEND — стипендия, которую получает студент,\n",
    "KURS — курс, на котором учится студент,\n",
    "CITY — город, в котором живет студент,\n",
    "BIRTHDAY — дата рождения студента,\n",
    "UNIV_ID — идентификатор университета, в котором учится студент.\n",
    "\n",
    "LECTURER\n",
    "LECTURER_ID — идентификатор преподавателя,\n",
    "SURNAME — фамилия преподавателя,\n",
    "NAME — имя преподавателя,\n",
    "CITY — город, в котором живет преподаватель,\n",
    "UNIV_ID — идентификатор университета, в котором работает преподаватель\n",
    "\n",
    "SUBJECT\n",
    "SUBJ_ID — идентификатор предмета обучения,\n",
    "SUBJ_NAME — наименование предмета обучения,\n",
    "HOUR — количество часов, отводимых на изучение предмета,\n",
    "SEMESTER — семестр, в котором изучается данный предмет.\n",
    "\n",
    "UNIVERSITY\n",
    "UNIV_ID — идентификатор университета,\n",
    "UNIV_NAME — название университета,\n",
    "RATING — рейтинг университета,\n",
    "CITY — город, в котором расположен университет.\n",
    "\n",
    "EXAM_MARKS\n",
    "EXAM_ID — идентификатор экзамена,\n",
    "STUDENT_ID — идентификатор студента,\n",
    "SUBJ_ID — идентификатор предмета обучения,\n",
    "MARK — экзаменационная оценка,\n",
    "EXAM_DATE — дата экзамена.\n",
    "\n",
    "SUBJ_LECT\n",
    "LECTURER_ID — идентификатор преподавателя,\n",
    "SUBJ_ID — идентификатор предмета обучения.\n",
    "```\n",
    "\n",
    "<img src=\"../Img/Students_Schema.png\" style=\"width:79%\">"
   ]
  },
  {
   "cell_type": "code",
   "execution_count": 2,
   "metadata": {},
   "outputs": [],
   "source": [
    "from sqlalchemy import MetaData, Table, create_engine, select, and_, or_, not_\n",
    "from sqlalchemy.sql import func, distinct, exists"
   ]
  },
  {
   "cell_type": "code",
   "execution_count": 3,
   "metadata": {
    "scrolled": true
   },
   "outputs": [],
   "source": [
    "engine = create_engine('sqlite+pysqlite:///../Data/Students.db')\n",
    "conn = engine.connect()"
   ]
  },
  {
   "cell_type": "code",
   "execution_count": 4,
   "metadata": {},
   "outputs": [],
   "source": [
    "metadata = MetaData() # Объект-контейнер, содержит информацию о схеме данных\n",
    "metadata.reflect(bind=engine) # Отображение БД"
   ]
  },
  {
   "cell_type": "code",
   "execution_count": 5,
   "metadata": {},
   "outputs": [
    {
     "data": {
      "text/plain": [
       "dict_keys(['city', 'exam_marks', 'student', 'university', 'subject', 'lecturer', 'subj_lect'])"
      ]
     },
     "execution_count": 5,
     "metadata": {},
     "output_type": "execute_result"
    }
   ],
   "source": [
    "# Таблицы в БД\n",
    "metadata.tables.keys()"
   ]
  },
  {
   "cell_type": "code",
   "execution_count": 6,
   "metadata": {},
   "outputs": [],
   "source": [
    "exam_marks=Table(\"exam_marks\", metadata, autoload=True, autoload_with=\"engine\")\n",
    "lecturer=Table(\"lecturer\", metadata, autoload=True, autoload_with=\"engine\")\n",
    "student=Table(\"student\", metadata, autoload=True, autoload_with=\"engine\")\n",
    "subj_lect=Table(\"subj_lect\", metadata, autoload=True, autoload_with=\"engine\")\n",
    "subject=Table(\"subject\", metadata, autoload=True, autoload_with=\"engine\")\n",
    "university=Table(\"university\", metadata, autolad=True, autolad_with=\"engine\")"
   ]
  },
  {
   "cell_type": "markdown",
   "metadata": {},
   "source": [
    "<img src=../Img/pencil.png style=\"width:190px;height:190px\">\n",
    "<p style=\"background-color:powderblue; font-size:125%; color: rebeccapurple;\">Выполните задания</p>\n",
    "<p>Выполните задания c помощью Jupyter Notebook</p>\n",
    "\n",
    "1. Напишите запрос для получения идентификаторов, имён, фамилий и городов студентов без определенного места жительства.\n",
    "2. Напишите запрос для получения списка учебных заведений, названия которых состоят как минимум из трех слов.\n",
    "3. Напишите запрос, выполняющий вывод количества экзаменов, сдававшихся (вне зависимости от оценки) студентами 12, 32, 55. Результат должен содержать идентификатор студента и количество сданных им экзаменов. Результат упорядочить по убыванию количества экзаменов.\n",
    "4. Для каждого дня сдачи экзаменов, сдававшихся в мае, напишите запрос, выводящий максимальные оценки, полученные по каждому предмету.\n",
    "5. Для каждого предмета напишите запрос, выводящий количество преподавателей, ведущих по нему занятия. Результат должен содержать название предмета и число преподавателей.\n",
    "6. С помощью подзапроса напишите запрос, выполняющий вывод результатов экзаменов, сданных по предметам первого семестра. Результат должен содержать идентификатор экзамена, идентификатор предмета, дату в формате YYYY-MM-DD.\n",
    "7. Отредактируйте следующий запрос с подзапросом, чтобы найти всех студентов, имеющих только отличные оценки. Выполните данный запрос с помощью SQLAlchemy.\n",
    "```\n",
    "s = \"\"\"\n",
    "SELECT DISTINCT student_id, surname, name\n",
    "FROM student st\n",
    "WHERE 4 < (\n",
    "    SELECT min(mark) FROM exam_marks em WHERE ...\n",
    ")\n",
    "\"\"\"\n",
    "```\n",
    "8. Напишите запрос, выполняющий вывод идентификаторов, фамилий, имён студентов, средняя оценка которых превышает 3 балла на экзаменах по предметам 3 семестра.\n",
    "9. Напишите запрос, выполняющий вывод списка идентификаторов, фамилий, имён, городов студентов, имеющих только отличные оценки и проживающих в городе, не совпадающем с городом их университета.\n",
    "10. Покажите ИД экзамена, ИД студента, ИД предмета, оценку, дату для всех экзаменов, сдававшихся студентами ВГУ.\n",
    "11. Напишите запрос, показывающий, сколько круглых отличников в каждом университете.\n",
    "12. С помощью EXISTS напишите запрос, который выполняет выборку имен всех студентов, имеющих по предмету c идентификатором 10 балл ниже общего среднего балла.\n",
    "13. С помощью EXISTS Напишите запрос, выполняющий вывод количества студентов, имеющих хотя бы одну неудовлетворительную оценку и проживающих в городе, не совпадающем с городом их университета.\n",
    "14. С помощью EXISTS Напишите запрос, выполняющий вывод количества студентов, не имеющих ни одной оценки.\n",
    "15.  Напишите запрос, показывающий дату первого экзамена в 2020 году, дату последнего экзамена в 2020 году, количество дней между первым и последним экзаменом в 2020 году. Подсказка: для установки фильтра на 2020 год можно использовать оператор LIKE, например `.where(func.date(exam_marks.c.exam_date).like(\"2020-%\"))`"
   ]
  },
  {
   "cell_type": "code",
   "execution_count": 25,
   "metadata": {},
   "outputs": [
    {
     "name": "stdout",
     "output_type": "stream",
     "text": [
      "SELECT min(date(em.exam_date)) AS min_1, max(date(em.exam_date)) AS max_1, julianday(max(date(em.exam_date))) - julianday(min(date(em.exam_date))) AS anon_1 \n",
      "FROM exam_marks AS em \n",
      "WHERE date(em.exam_date) LIKE :date_1\n"
     ]
    },
    {
     "data": {
      "text/plain": [
       "[('2020-02-10', '2020-12-03', 297.0)]"
      ]
     },
     "execution_count": 25,
     "metadata": {},
     "output_type": "execute_result"
    }
   ],
   "source": [
    "# 15\n",
    "\n",
    "em = exam_marks.alias('em')\n",
    "\n",
    "s = select(func.min(func.date(em.c.exam_date)), func.max(func.date(em.c.exam_date)), \n",
    "           func.julianday(func.max(func.date(em.c.exam_date))) - func.julianday(func.min(func.date(em.c.exam_date))))\n",
    "s = s.where(func.date(em.c.exam_date).like(\"2020-%\"))\n",
    "\n",
    "print(s)\n",
    "\n",
    "conn.execute(s).fetchall()"
   ]
  },
  {
   "cell_type": "code",
   "execution_count": 13,
   "metadata": {},
   "outputs": [
    {
     "data": {
      "text/plain": [
       "[(3,), (5,)]"
      ]
     },
     "execution_count": 13,
     "metadata": {},
     "output_type": "execute_result"
    }
   ],
   "source": [
    "# Извлечь данные об оценках сутента Васильева.\n",
    "\n",
    "subq = select(student.c.student_id)\n",
    "subq = subq.where(student.c.surname=='Васильев').scalar_subquery()\n",
    "\n",
    "s = select(exam_marks.c.mark)\n",
    "s = s.where(exam_marks.c.student_id==subq)\n",
    "\n",
    "result = conn.execute(s).fetchall()\n",
    "result"
   ]
  },
  {
   "cell_type": "code",
   "execution_count": 40,
   "metadata": {},
   "outputs": [
    {
     "name": "stdout",
     "output_type": "stream",
     "text": [
      "SELECT student.student_id, student.name, student.surname \n",
      "FROM student \n",
      "WHERE (EXISTS (SELECT * \n",
      "FROM exam_marks \n",
      "WHERE exam_marks.mark IS NOT NULL AND exam_marks.student_id = student.student_id)) AND NOT (EXISTS (SELECT * \n",
      "FROM exam_marks \n",
      "WHERE exam_marks.mark < :mark_1 AND exam_marks.student_id = student.student_id)) {'mark_1': 5}\n"
     ]
    },
    {
     "data": {
      "text/plain": [
       "[(10, 'Борис', 'Кузнецов'),\n",
       " (55, 'Вадим', 'Белкин'),\n",
       " (82, 'Элеонора', 'Лапина'),\n",
       " (88, 'Ирина', 'Жданова'),\n",
       " (91, 'Ираида', 'Блохина'),\n",
       " (92, 'Светлана', 'Мельникова'),\n",
       " (99, 'Марина', 'Борисова')]"
      ]
     },
     "execution_count": 40,
     "metadata": {},
     "output_type": "execute_result"
    }
   ],
   "source": [
    "# Найти студентов, у которых только отличные оценки.\n",
    "\n",
    "# Студенты, сдававшие экзамен\n",
    "subq1 = exists().where(and_(exam_marks.c.mark != None, exam_marks.c.student_id == student.c.student_id))\n",
    "\n",
    "# Студенты, не имеющие оценок, кроме отличных\n",
    "subq2 = ~exists().where(and_(exam_marks.c.mark < 5, exam_marks.c.student_id == student.c.student_id))\n",
    "\n",
    "s = select(student.c.student_id, student.c.name, student.c.surname)\n",
    "s = s.where(subq1).where(subq2)\n",
    "\n",
    "print(s, s.compile().params)\n",
    "\n",
    "result = conn.execute(s).fetchall()\n",
    "result"
   ]
  }
 ],
 "metadata": {
  "kernelspec": {
   "display_name": "Python 3",
   "language": "python",
   "name": "python3"
  },
  "language_info": {
   "codemirror_mode": {
    "name": "ipython",
    "version": 3
   },
   "file_extension": ".py",
   "mimetype": "text/x-python",
   "name": "python",
   "nbconvert_exporter": "python",
   "pygments_lexer": "ipython3",
   "version": "3.7.6"
  }
 },
 "nbformat": 4,
 "nbformat_minor": 5
}
